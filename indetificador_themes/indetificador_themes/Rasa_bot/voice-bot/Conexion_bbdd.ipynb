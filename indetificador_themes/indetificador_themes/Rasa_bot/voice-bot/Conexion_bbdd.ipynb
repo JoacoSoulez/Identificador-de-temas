{
 "cells": [
  {
   "cell_type": "code",
   "execution_count": 2,
   "id": "1997d648",
   "metadata": {},
   "outputs": [],
   "source": [
    "import pandas as pd\n",
    "import pymssql\n"
   ]
  },
  {
   "cell_type": "code",
   "execution_count": 4,
   "id": "18131e7a",
   "metadata": {},
   "outputs": [],
   "source": [
    "conn = pymssql.connect(server='192.168.120.120', user='jsoulez', password='******', database='master')\n",
    "cur = conn.cursor()\n",
    "query = \"\"\"SELECT top 3 cartera.IDMOROSO, cartera.IDCLIENTE,moroso.NOMBRE, producto.TOTALDEUDA, producto.VALORCUOTA, producto.TOTALPAGOS, producto.FULTPAGO, contabilidad.TIPO, contabilidad.SUBTIPO, contabilidad.DATO FROM Active.dbo.CARTERA as cartera\n",
    "            JOIN\n",
    "            Active.dbo.MOROSO AS moroso\n",
    "            on cartera.IDMOROSO = moroso.IDMOROSO\n",
    "            JOIN\n",
    "            Active.dbo.PRODUCTO as producto\n",
    "            on cartera.IDMOROSO = producto.IDMOROSO\n",
    "            JOIN\n",
    "            Active.dbo.DAM_CONTACTABILIDAD_FILTRADA AS contabilidad\n",
    "            on cartera.IDMOROSO = contabilidad.IDMOROSO\n",
    "            where contabilidad.TIPO = 'TEL.CELULAR';\"\"\"\n",
    "\n",
    "bbdd = pd.read_sql_query(query,conn)"
   ]
  },
  {
   "cell_type": "code",
   "execution_count": 5,
   "id": "f262fcfd",
   "metadata": {
    "scrolled": true
   },
   "outputs": [
    {
     "data": {
      "text/html": [
       "<div>\n",
       "<style scoped>\n",
       "    .dataframe tbody tr th:only-of-type {\n",
       "        vertical-align: middle;\n",
       "    }\n",
       "\n",
       "    .dataframe tbody tr th {\n",
       "        vertical-align: top;\n",
       "    }\n",
       "\n",
       "    .dataframe thead th {\n",
       "        text-align: right;\n",
       "    }\n",
       "</style>\n",
       "<table border=\"1\" class=\"dataframe\">\n",
       "  <thead>\n",
       "    <tr style=\"text-align: right;\">\n",
       "      <th></th>\n",
       "      <th>IDMOROSO</th>\n",
       "      <th>IDCLIENTE</th>\n",
       "      <th>NOMBRE</th>\n",
       "      <th>TOTALDEUDA</th>\n",
       "      <th>VALORCUOTA</th>\n",
       "      <th>TOTALPAGOS</th>\n",
       "      <th>FULTPAGO</th>\n",
       "      <th>TIPO</th>\n",
       "      <th>SUBTIPO</th>\n",
       "      <th>DATO</th>\n",
       "    </tr>\n",
       "  </thead>\n",
       "  <tbody>\n",
       "    <tr>\n",
       "      <th>0</th>\n",
       "      <td>DNI 11650470</td>\n",
       "      <td>BANCO_DE_ALIMENTOS</td>\n",
       "      <td>FERRIGNO RICARDO S</td>\n",
       "      <td>NaN</td>\n",
       "      <td>60000.0</td>\n",
       "      <td>0.0</td>\n",
       "      <td>None</td>\n",
       "      <td>TEL.CELULAR</td>\n",
       "      <td>PERSONAL</td>\n",
       "      <td>1550069825</td>\n",
       "    </tr>\n",
       "    <tr>\n",
       "      <th>1</th>\n",
       "      <td>DNI 33701663</td>\n",
       "      <td>FRANCES_2012</td>\n",
       "      <td>FIORITO ROMINA ROXANA</td>\n",
       "      <td>16094.16</td>\n",
       "      <td>NaN</td>\n",
       "      <td>0.0</td>\n",
       "      <td>None</td>\n",
       "      <td>TEL.CELULAR</td>\n",
       "      <td>PERSONAL</td>\n",
       "      <td>1551531581</td>\n",
       "    </tr>\n",
       "    <tr>\n",
       "      <th>2</th>\n",
       "      <td>DNI 13245901</td>\n",
       "      <td>COTO23</td>\n",
       "      <td>BARBAZAN SILVIA CRISTINA</td>\n",
       "      <td>8639.35</td>\n",
       "      <td>1959.0</td>\n",
       "      <td>0.0</td>\n",
       "      <td>None</td>\n",
       "      <td>TEL.CELULAR</td>\n",
       "      <td>PERSONAL</td>\n",
       "      <td>1563191396</td>\n",
       "    </tr>\n",
       "  </tbody>\n",
       "</table>\n",
       "</div>"
      ],
      "text/plain": [
       "             IDMOROSO             IDCLIENTE  \\\n",
       "0  DNI 11650470        BANCO_DE_ALIMENTOS     \n",
       "1  DNI 33701663        FRANCES_2012           \n",
       "2  DNI 13245901        COTO23                 \n",
       "\n",
       "                                     NOMBRE  TOTALDEUDA  VALORCUOTA  \\\n",
       "0  FERRIGNO RICARDO S                               NaN     60000.0   \n",
       "1  FIORITO ROMINA ROXANA                       16094.16         NaN   \n",
       "2  BARBAZAN SILVIA CRISTINA                     8639.35      1959.0   \n",
       "\n",
       "   TOTALPAGOS FULTPAGO         TIPO   SUBTIPO        DATO  \n",
       "0         0.0     None  TEL.CELULAR  PERSONAL  1550069825  \n",
       "1         0.0     None  TEL.CELULAR  PERSONAL  1551531581  \n",
       "2         0.0     None  TEL.CELULAR  PERSONAL  1563191396  "
      ]
     },
     "execution_count": 5,
     "metadata": {},
     "output_type": "execute_result"
    }
   ],
   "source": [
    "bbdd"
   ]
  },
  {
   "cell_type": "code",
   "execution_count": 6,
   "id": "e9d19074",
   "metadata": {},
   "outputs": [
    {
     "name": "stderr",
     "output_type": "stream",
     "text": [
      "/var/folders/bj/ndgdqzgj6qgd9y613qph_m180000gn/T/ipykernel_66355/4045136593.py:1: SettingWithCopyWarning: \n",
      "A value is trying to be set on a copy of a slice from a DataFrame\n",
      "\n",
      "See the caveats in the documentation: https://pandas.pydata.org/pandas-docs/stable/user_guide/indexing.html#returning-a-view-versus-a-copy\n",
      "  bbdd['NOMBRE'][0] = 'Joaquin'\n",
      "/var/folders/bj/ndgdqzgj6qgd9y613qph_m180000gn/T/ipykernel_66355/4045136593.py:2: SettingWithCopyWarning: \n",
      "A value is trying to be set on a copy of a slice from a DataFrame\n",
      "\n",
      "See the caveats in the documentation: https://pandas.pydata.org/pandas-docs/stable/user_guide/indexing.html#returning-a-view-versus-a-copy\n",
      "  bbdd['NOMBRE'][1] = 'Lautaro'\n",
      "/var/folders/bj/ndgdqzgj6qgd9y613qph_m180000gn/T/ipykernel_66355/4045136593.py:3: SettingWithCopyWarning: \n",
      "A value is trying to be set on a copy of a slice from a DataFrame\n",
      "\n",
      "See the caveats in the documentation: https://pandas.pydata.org/pandas-docs/stable/user_guide/indexing.html#returning-a-view-versus-a-copy\n",
      "  bbdd['NOMBRE'][2] = 'Fernando'\n",
      "/var/folders/bj/ndgdqzgj6qgd9y613qph_m180000gn/T/ipykernel_66355/4045136593.py:4: SettingWithCopyWarning: \n",
      "A value is trying to be set on a copy of a slice from a DataFrame\n",
      "\n",
      "See the caveats in the documentation: https://pandas.pydata.org/pandas-docs/stable/user_guide/indexing.html#returning-a-view-versus-a-copy\n",
      "  bbdd['IDMOROSO'][0] = 'DNI 00000'\n",
      "/var/folders/bj/ndgdqzgj6qgd9y613qph_m180000gn/T/ipykernel_66355/4045136593.py:5: SettingWithCopyWarning: \n",
      "A value is trying to be set on a copy of a slice from a DataFrame\n",
      "\n",
      "See the caveats in the documentation: https://pandas.pydata.org/pandas-docs/stable/user_guide/indexing.html#returning-a-view-versus-a-copy\n",
      "  bbdd['IDMOROSO'][1] = 'DNI 11111'\n",
      "/var/folders/bj/ndgdqzgj6qgd9y613qph_m180000gn/T/ipykernel_66355/4045136593.py:6: SettingWithCopyWarning: \n",
      "A value is trying to be set on a copy of a slice from a DataFrame\n",
      "\n",
      "See the caveats in the documentation: https://pandas.pydata.org/pandas-docs/stable/user_guide/indexing.html#returning-a-view-versus-a-copy\n",
      "  bbdd['IDMOROSO'][2] = 'DNI 2222'\n"
     ]
    }
   ],
   "source": [
    "bbdd['NOMBRE'][0] = 'Joaquin' \n",
    "bbdd['NOMBRE'][1] = 'Lautaro'\n",
    "bbdd['NOMBRE'][2] = 'Fernando'\n",
    "bbdd['IDMOROSO'][0] = 'DNI 00000'\n",
    "bbdd['IDMOROSO'][1] = 'DNI 11111'\n",
    "bbdd['IDMOROSO'][2] = 'DNI 2222'"
   ]
  },
  {
   "cell_type": "code",
   "execution_count": 7,
   "id": "da53547a",
   "metadata": {},
   "outputs": [
    {
     "data": {
      "text/html": [
       "<div>\n",
       "<style scoped>\n",
       "    .dataframe tbody tr th:only-of-type {\n",
       "        vertical-align: middle;\n",
       "    }\n",
       "\n",
       "    .dataframe tbody tr th {\n",
       "        vertical-align: top;\n",
       "    }\n",
       "\n",
       "    .dataframe thead th {\n",
       "        text-align: right;\n",
       "    }\n",
       "</style>\n",
       "<table border=\"1\" class=\"dataframe\">\n",
       "  <thead>\n",
       "    <tr style=\"text-align: right;\">\n",
       "      <th></th>\n",
       "      <th>IDMOROSO</th>\n",
       "      <th>IDCLIENTE</th>\n",
       "      <th>NOMBRE</th>\n",
       "      <th>TOTALDEUDA</th>\n",
       "      <th>VALORCUOTA</th>\n",
       "      <th>TOTALPAGOS</th>\n",
       "      <th>FULTPAGO</th>\n",
       "      <th>TIPO</th>\n",
       "      <th>SUBTIPO</th>\n",
       "      <th>DATO</th>\n",
       "    </tr>\n",
       "  </thead>\n",
       "  <tbody>\n",
       "    <tr>\n",
       "      <th>0</th>\n",
       "      <td>DNI 00000</td>\n",
       "      <td>BANCO_DE_ALIMENTOS</td>\n",
       "      <td>Joaquin</td>\n",
       "      <td>NaN</td>\n",
       "      <td>60000.0</td>\n",
       "      <td>0.0</td>\n",
       "      <td>None</td>\n",
       "      <td>TEL.CELULAR</td>\n",
       "      <td>PERSONAL</td>\n",
       "      <td>1550069825</td>\n",
       "    </tr>\n",
       "    <tr>\n",
       "      <th>1</th>\n",
       "      <td>DNI 11111</td>\n",
       "      <td>FRANCES_2012</td>\n",
       "      <td>Lautaro</td>\n",
       "      <td>16094.16</td>\n",
       "      <td>NaN</td>\n",
       "      <td>0.0</td>\n",
       "      <td>None</td>\n",
       "      <td>TEL.CELULAR</td>\n",
       "      <td>PERSONAL</td>\n",
       "      <td>1551531581</td>\n",
       "    </tr>\n",
       "    <tr>\n",
       "      <th>2</th>\n",
       "      <td>DNI 2222</td>\n",
       "      <td>COTO23</td>\n",
       "      <td>Fernando</td>\n",
       "      <td>8639.35</td>\n",
       "      <td>1959.0</td>\n",
       "      <td>0.0</td>\n",
       "      <td>None</td>\n",
       "      <td>TEL.CELULAR</td>\n",
       "      <td>PERSONAL</td>\n",
       "      <td>1563191396</td>\n",
       "    </tr>\n",
       "  </tbody>\n",
       "</table>\n",
       "</div>"
      ],
      "text/plain": [
       "    IDMOROSO             IDCLIENTE    NOMBRE  TOTALDEUDA  VALORCUOTA  \\\n",
       "0  DNI 00000  BANCO_DE_ALIMENTOS     Joaquin         NaN     60000.0   \n",
       "1  DNI 11111  FRANCES_2012           Lautaro    16094.16         NaN   \n",
       "2   DNI 2222  COTO23                Fernando     8639.35      1959.0   \n",
       "\n",
       "   TOTALPAGOS FULTPAGO         TIPO   SUBTIPO        DATO  \n",
       "0         0.0     None  TEL.CELULAR  PERSONAL  1550069825  \n",
       "1         0.0     None  TEL.CELULAR  PERSONAL  1551531581  \n",
       "2         0.0     None  TEL.CELULAR  PERSONAL  1563191396  "
      ]
     },
     "execution_count": 7,
     "metadata": {},
     "output_type": "execute_result"
    }
   ],
   "source": [
    "bbdd"
   ]
  },
  {
   "cell_type": "code",
   "execution_count": 10,
   "id": "1a46f02f",
   "metadata": {},
   "outputs": [
    {
     "name": "stdout",
     "output_type": "stream",
     "text": [
      "/Users/joacosoulez/Desktop/DatosMOPC/voice-bot\r\n"
     ]
    }
   ],
   "source": [
    "!pwd"
   ]
  },
  {
   "cell_type": "code",
   "execution_count": 11,
   "id": "405e270d",
   "metadata": {},
   "outputs": [
    {
     "ename": "IsADirectoryError",
     "evalue": "[Errno 21] Is a directory: '/Users/joacosoulez/Desktop/DatosMOPC/voice-bot'",
     "output_type": "error",
     "traceback": [
      "\u001b[0;31m---------------------------------------------------------------------------\u001b[0m",
      "\u001b[0;31mIsADirectoryError\u001b[0m                         Traceback (most recent call last)",
      "\u001b[0;32m/var/folders/bj/ndgdqzgj6qgd9y613qph_m180000gn/T/ipykernel_66355/911661020.py\u001b[0m in \u001b[0;36m<module>\u001b[0;34m\u001b[0m\n\u001b[0;32m----> 1\u001b[0;31m \u001b[0mbbdd\u001b[0m\u001b[0;34m.\u001b[0m\u001b[0mto_csv\u001b[0m\u001b[0;34m(\u001b[0m\u001b[0;34m'/Users/joacosoulez/Desktop/DatosMOPC/voice-bot'\u001b[0m\u001b[0;34m,\u001b[0m \u001b[0mindex\u001b[0m \u001b[0;34m=\u001b[0m \u001b[0;32mFalse\u001b[0m\u001b[0;34m)\u001b[0m\u001b[0;34m\u001b[0m\u001b[0;34m\u001b[0m\u001b[0m\n\u001b[0m",
      "\u001b[0;32m~/.pyenv/versions/3.8.12/envs/lewagon/lib/python3.8/site-packages/pandas/core/generic.py\u001b[0m in \u001b[0;36mto_csv\u001b[0;34m(self, path_or_buf, sep, na_rep, float_format, columns, header, index, index_label, mode, encoding, compression, quoting, quotechar, line_terminator, chunksize, date_format, doublequote, escapechar, decimal, errors, storage_options)\u001b[0m\n\u001b[1;32m   3464\u001b[0m         )\n\u001b[1;32m   3465\u001b[0m \u001b[0;34m\u001b[0m\u001b[0m\n\u001b[0;32m-> 3466\u001b[0;31m         return DataFrameRenderer(formatter).to_csv(\n\u001b[0m\u001b[1;32m   3467\u001b[0m             \u001b[0mpath_or_buf\u001b[0m\u001b[0;34m,\u001b[0m\u001b[0;34m\u001b[0m\u001b[0;34m\u001b[0m\u001b[0m\n\u001b[1;32m   3468\u001b[0m             \u001b[0mline_terminator\u001b[0m\u001b[0;34m=\u001b[0m\u001b[0mline_terminator\u001b[0m\u001b[0;34m,\u001b[0m\u001b[0;34m\u001b[0m\u001b[0;34m\u001b[0m\u001b[0m\n",
      "\u001b[0;32m~/.pyenv/versions/3.8.12/envs/lewagon/lib/python3.8/site-packages/pandas/io/formats/format.py\u001b[0m in \u001b[0;36mto_csv\u001b[0;34m(self, path_or_buf, encoding, sep, columns, index_label, mode, compression, quoting, quotechar, line_terminator, chunksize, date_format, doublequote, escapechar, errors, storage_options)\u001b[0m\n\u001b[1;32m   1103\u001b[0m             \u001b[0mformatter\u001b[0m\u001b[0;34m=\u001b[0m\u001b[0mself\u001b[0m\u001b[0;34m.\u001b[0m\u001b[0mfmt\u001b[0m\u001b[0;34m,\u001b[0m\u001b[0;34m\u001b[0m\u001b[0;34m\u001b[0m\u001b[0m\n\u001b[1;32m   1104\u001b[0m         )\n\u001b[0;32m-> 1105\u001b[0;31m         \u001b[0mcsv_formatter\u001b[0m\u001b[0;34m.\u001b[0m\u001b[0msave\u001b[0m\u001b[0;34m(\u001b[0m\u001b[0;34m)\u001b[0m\u001b[0;34m\u001b[0m\u001b[0;34m\u001b[0m\u001b[0m\n\u001b[0m\u001b[1;32m   1106\u001b[0m \u001b[0;34m\u001b[0m\u001b[0m\n\u001b[1;32m   1107\u001b[0m         \u001b[0;32mif\u001b[0m \u001b[0mcreated_buffer\u001b[0m\u001b[0;34m:\u001b[0m\u001b[0;34m\u001b[0m\u001b[0;34m\u001b[0m\u001b[0m\n",
      "\u001b[0;32m~/.pyenv/versions/3.8.12/envs/lewagon/lib/python3.8/site-packages/pandas/io/formats/csvs.py\u001b[0m in \u001b[0;36msave\u001b[0;34m(self)\u001b[0m\n\u001b[1;32m    235\u001b[0m         \"\"\"\n\u001b[1;32m    236\u001b[0m         \u001b[0;31m# apply compression and byte/text conversion\u001b[0m\u001b[0;34m\u001b[0m\u001b[0;34m\u001b[0m\u001b[0;34m\u001b[0m\u001b[0m\n\u001b[0;32m--> 237\u001b[0;31m         with get_handle(\n\u001b[0m\u001b[1;32m    238\u001b[0m             \u001b[0mself\u001b[0m\u001b[0;34m.\u001b[0m\u001b[0mfilepath_or_buffer\u001b[0m\u001b[0;34m,\u001b[0m\u001b[0;34m\u001b[0m\u001b[0;34m\u001b[0m\u001b[0m\n\u001b[1;32m    239\u001b[0m             \u001b[0mself\u001b[0m\u001b[0;34m.\u001b[0m\u001b[0mmode\u001b[0m\u001b[0;34m,\u001b[0m\u001b[0;34m\u001b[0m\u001b[0;34m\u001b[0m\u001b[0m\n",
      "\u001b[0;32m~/.pyenv/versions/3.8.12/envs/lewagon/lib/python3.8/site-packages/pandas/io/common.py\u001b[0m in \u001b[0;36mget_handle\u001b[0;34m(path_or_buf, mode, encoding, compression, memory_map, is_text, errors, storage_options)\u001b[0m\n\u001b[1;32m    700\u001b[0m         \u001b[0;32mif\u001b[0m \u001b[0mioargs\u001b[0m\u001b[0;34m.\u001b[0m\u001b[0mencoding\u001b[0m \u001b[0;32mand\u001b[0m \u001b[0;34m\"b\"\u001b[0m \u001b[0;32mnot\u001b[0m \u001b[0;32min\u001b[0m \u001b[0mioargs\u001b[0m\u001b[0;34m.\u001b[0m\u001b[0mmode\u001b[0m\u001b[0;34m:\u001b[0m\u001b[0;34m\u001b[0m\u001b[0;34m\u001b[0m\u001b[0m\n\u001b[1;32m    701\u001b[0m             \u001b[0;31m# Encoding\u001b[0m\u001b[0;34m\u001b[0m\u001b[0;34m\u001b[0m\u001b[0;34m\u001b[0m\u001b[0m\n\u001b[0;32m--> 702\u001b[0;31m             handle = open(\n\u001b[0m\u001b[1;32m    703\u001b[0m                 \u001b[0mhandle\u001b[0m\u001b[0;34m,\u001b[0m\u001b[0;34m\u001b[0m\u001b[0;34m\u001b[0m\u001b[0m\n\u001b[1;32m    704\u001b[0m                 \u001b[0mioargs\u001b[0m\u001b[0;34m.\u001b[0m\u001b[0mmode\u001b[0m\u001b[0;34m,\u001b[0m\u001b[0;34m\u001b[0m\u001b[0;34m\u001b[0m\u001b[0m\n",
      "\u001b[0;31mIsADirectoryError\u001b[0m: [Errno 21] Is a directory: '/Users/joacosoulez/Desktop/DatosMOPC/voice-bot'"
     ]
    }
   ],
   "source": [
    "bbdd.to_csv('/Users/joacosoulez/Desktop/DatosMOPC/voice-bot', index = False)"
   ]
  }
 ],
 "metadata": {
  "kernelspec": {
   "display_name": "Python 3 (ipykernel)",
   "language": "python",
   "name": "python3"
  },
  "language_info": {
   "codemirror_mode": {
    "name": "ipython",
    "version": 3
   },
   "file_extension": ".py",
   "mimetype": "text/x-python",
   "name": "python",
   "nbconvert_exporter": "python",
   "pygments_lexer": "ipython3",
   "version": "3.8.12"
  },
  "toc": {
   "base_numbering": 1,
   "nav_menu": {},
   "number_sections": true,
   "sideBar": true,
   "skip_h1_title": false,
   "title_cell": "Table of Contents",
   "title_sidebar": "Contents",
   "toc_cell": false,
   "toc_position": {},
   "toc_section_display": true,
   "toc_window_display": false
  }
 },
 "nbformat": 4,
 "nbformat_minor": 5
}
