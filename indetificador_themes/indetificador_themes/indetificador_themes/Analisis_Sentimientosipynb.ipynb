{
  "nbformat": 4,
  "nbformat_minor": 0,
  "metadata": {
    "colab": {
      "provenance": []
    },
    "kernelspec": {
      "name": "python3",
      "display_name": "Python 3"
    },
    "language_info": {
      "name": "python"
    }
  },
  "cells": [
    {
      "cell_type": "code",
      "source": [
        "!pip uninstall nltk\n",
        "!pip install nltk==3.5\n",
        "!pip install rake-nltk"
      ],
      "metadata": {
        "colab": {
          "base_uri": "https://localhost:8080/"
        },
        "id": "Zp1F6jWTSrcD",
        "outputId": "d1b076a3-3109-4928-903a-bd0d6194b23e"
      },
      "execution_count": null,
      "outputs": [
        {
          "output_type": "stream",
          "name": "stdout",
          "text": [
            "Found existing installation: nltk 3.7\n",
            "Uninstalling nltk-3.7:\n",
            "  Would remove:\n",
            "    /usr/local/bin/nltk\n",
            "    /usr/local/lib/python3.8/dist-packages/nltk-3.7.dist-info/*\n",
            "    /usr/local/lib/python3.8/dist-packages/nltk/*\n",
            "Proceed (y/n)? y\n",
            "  Successfully uninstalled nltk-3.7\n",
            "Looking in indexes: https://pypi.org/simple, https://us-python.pkg.dev/colab-wheels/public/simple/\n",
            "Collecting nltk==3.5\n",
            "  Downloading nltk-3.5.zip (1.4 MB)\n",
            "\u001b[K     |████████████████████████████████| 1.4 MB 35.2 MB/s \n",
            "\u001b[?25hRequirement already satisfied: click in /usr/local/lib/python3.8/dist-packages (from nltk==3.5) (7.1.2)\n",
            "Requirement already satisfied: joblib in /usr/local/lib/python3.8/dist-packages (from nltk==3.5) (1.2.0)\n",
            "Requirement already satisfied: regex in /usr/local/lib/python3.8/dist-packages (from nltk==3.5) (2022.6.2)\n",
            "Requirement already satisfied: tqdm in /usr/local/lib/python3.8/dist-packages (from nltk==3.5) (4.64.1)\n",
            "Building wheels for collected packages: nltk\n",
            "  Building wheel for nltk (setup.py) ... \u001b[?25l\u001b[?25hdone\n",
            "  Created wheel for nltk: filename=nltk-3.5-py3-none-any.whl size=1434692 sha256=f9df382fd645ebb9a9c993b02b85628f4b6cfae03c0316c58c7e899808f064de\n",
            "  Stored in directory: /root/.cache/pip/wheels/ff/d5/7b/f1fb4e1e1603b2f01c2424dd60fbcc50c12ef918bafc44b155\n",
            "Successfully built nltk\n",
            "Installing collected packages: nltk\n",
            "Successfully installed nltk-3.5\n",
            "Looking in indexes: https://pypi.org/simple, https://us-python.pkg.dev/colab-wheels/public/simple/\n",
            "Collecting rake-nltk\n",
            "  Downloading rake_nltk-1.0.6-py3-none-any.whl (9.1 kB)\n",
            "Collecting nltk<4.0.0,>=3.6.2\n",
            "  Downloading nltk-3.8-py3-none-any.whl (1.5 MB)\n",
            "\u001b[K     |████████████████████████████████| 1.5 MB 35.9 MB/s \n",
            "\u001b[?25hRequirement already satisfied: tqdm in /usr/local/lib/python3.8/dist-packages (from nltk<4.0.0,>=3.6.2->rake-nltk) (4.64.1)\n",
            "Requirement already satisfied: joblib in /usr/local/lib/python3.8/dist-packages (from nltk<4.0.0,>=3.6.2->rake-nltk) (1.2.0)\n",
            "Requirement already satisfied: regex>=2021.8.3 in /usr/local/lib/python3.8/dist-packages (from nltk<4.0.0,>=3.6.2->rake-nltk) (2022.6.2)\n",
            "Requirement already satisfied: click in /usr/local/lib/python3.8/dist-packages (from nltk<4.0.0,>=3.6.2->rake-nltk) (7.1.2)\n",
            "Installing collected packages: nltk, rake-nltk\n",
            "  Attempting uninstall: nltk\n",
            "    Found existing installation: nltk 3.5\n",
            "    Uninstalling nltk-3.5:\n",
            "      Successfully uninstalled nltk-3.5\n",
            "Successfully installed nltk-3.8 rake-nltk-1.0.6\n"
          ]
        }
      ]
    },
    {
      "cell_type": "code",
      "execution_count": null,
      "metadata": {
        "colab": {
          "base_uri": "https://localhost:8080/"
        },
        "id": "3us8hTykq8zc",
        "outputId": "6abdb598-d151-45f6-9db0-664091f6fba8"
      },
      "outputs": [
        {
          "output_type": "stream",
          "name": "stderr",
          "text": [
            "[nltk_data] Downloading package punkt to /root/nltk_data...\n",
            "[nltk_data]   Unzipping tokenizers/punkt.zip.\n",
            "[nltk_data] Downloading package stopwords to /root/nltk_data...\n",
            "[nltk_data]   Unzipping corpora/stopwords.zip.\n",
            "[nltk_data] Downloading package vader_lexicon to /root/nltk_data...\n"
          ]
        }
      ],
      "source": [
        "import pandas as pd\n",
        "import nltk\n",
        "nltk.download('punkt');\n",
        "nltk.download('stopwords');\n",
        "nltk.download('vader_lexicon');"
      ]
    },
    {
      "cell_type": "code",
      "source": [
        "df = pd.read_csv('transcripciones_para_modelo1.csv')"
      ],
      "metadata": {
        "id": "9mE2hEImrMrR"
      },
      "execution_count": null,
      "outputs": []
    },
    {
      "cell_type": "code",
      "source": [
        "df.head()"
      ],
      "metadata": {
        "colab": {
          "base_uri": "https://localhost:8080/",
          "height": 525
        },
        "id": "-IFYXYCWrb0j",
        "outputId": "32e2ccd5-2165-46b0-aa51-a16e860f4078"
      },
      "execution_count": null,
      "outputs": [
        {
          "output_type": "execute_result",
          "data": {
            "text/plain": [
              "   Unnamed: 0  level_0  index  Unnamed: 0.1  ID_MOPC            IDMOROSO  \\\n",
              "0           0        2    661           661   416983  RMS376409458092003   \n",
              "1           1       17   4339          4339   541329  DNIE95346786         \n",
              "2           2       24   4359          4359   541521  DNI 34651359         \n",
              "3           3       27   4364          4364   541705  DNI 50015563         \n",
              "4           4       42   4380          4380   542004  DNI 22567025         \n",
              "\n",
              "              IDCLIENTE  OPERADOR  CAMPAÑA  \\\n",
              "0  AMEX_PARM                 3760        5   \n",
              "1  FRANCES_2012              3999       30   \n",
              "2  FRANCES_2012              1714       30   \n",
              "3  FRANCES_2012              1767       30   \n",
              "4  FRANCES_2012              3156       30   \n",
              "\n",
              "                                 IDGRABACION  ... BASE  \\\n",
              "0       46041511-59040567-20210423110401.mp3  ...    0   \n",
              "1     1569593826-59557028-20210503155546.mp3  ...    0   \n",
              "2     1570180993-59557393-20210503160458.mp3  ...    0   \n",
              "3     1553745044-59557727-20210503161247.mp3  ...    0   \n",
              "4  0351156478139-59558261-20210503162608.mp3  ...    0   \n",
              "\n",
              "                                                 LOG DIRECCION  \\\n",
              "0  |0|46041511|DAHDI/195-91c|1619187461.23019|16:...  SALIENTE   \n",
              "1  |0|1569593826|SIP/Telular27-0000ec32|162006902...  SALIENTE   \n",
              "2  |0|1570180993|SIP/Telular27-0000eed0|162006957...  SALIENTE   \n",
              "3  |0|1553745044|SIP/Telular35-0000f118|162007004...  SALIENTE   \n",
              "4  |0|0351156478139|SIP/Telular21-0000f4c2|162007...  SALIENTE   \n",
              "\n",
              "           IDOPERADOR   AGENDAMIENTO_ESTADO  anos mes  \\\n",
              "0  ROBI                INTERESADO            2021   4   \n",
              "1  PERNICO             INTERESADO            2021   5   \n",
              "2  RSUAREZ             COMPROMISO            2021   5   \n",
              "3  CEZAPATA            INTERESADO            2021   5   \n",
              "4  RVICEN              INTERESADO            2021   5   \n",
              "\n",
              "                                       transcripcion  \\\n",
              "0  ['Hola', ' Buen día, la señora Miriam Margaluc...   \n",
              "1  ['[00:00.000 --> 00:10.620]  Buenas tardes con...   \n",
              "2  ['[00:00.000 --> 00:02.000]  Hola.', '[00:02.0...   \n",
              "3  ['[00:00.000 --> 00:07.000]  Hola. Hola, buena...   \n",
              "4  ['[00:00.000 --> 00:04.200]  Hola, buenas tard...   \n",
              "\n",
              "                                transcripcion_limpia Contestador  \n",
              "0  buen dia la senora miriam margaluchio  si  esa...           0  \n",
              "1  buenas tardes con el senor arnaldo vazquez mi ...           0  \n",
              "2  si buenas tardes con lucas zoban     si que ta...           0  \n",
              "3  buenas tardes me queria comunicar con luis el ...           0  \n",
              "4  buenas tardes si buenas tardes carlos     si c...           0  \n",
              "\n",
              "[5 rows x 31 columns]"
            ],
            "text/html": [
              "\n",
              "  <div id=\"df-ffcb719b-ea84-48f4-ac20-f2332be1091d\">\n",
              "    <div class=\"colab-df-container\">\n",
              "      <div>\n",
              "<style scoped>\n",
              "    .dataframe tbody tr th:only-of-type {\n",
              "        vertical-align: middle;\n",
              "    }\n",
              "\n",
              "    .dataframe tbody tr th {\n",
              "        vertical-align: top;\n",
              "    }\n",
              "\n",
              "    .dataframe thead th {\n",
              "        text-align: right;\n",
              "    }\n",
              "</style>\n",
              "<table border=\"1\" class=\"dataframe\">\n",
              "  <thead>\n",
              "    <tr style=\"text-align: right;\">\n",
              "      <th></th>\n",
              "      <th>Unnamed: 0</th>\n",
              "      <th>level_0</th>\n",
              "      <th>index</th>\n",
              "      <th>Unnamed: 0.1</th>\n",
              "      <th>ID_MOPC</th>\n",
              "      <th>IDMOROSO</th>\n",
              "      <th>IDCLIENTE</th>\n",
              "      <th>OPERADOR</th>\n",
              "      <th>CAMPAÑA</th>\n",
              "      <th>IDGRABACION</th>\n",
              "      <th>...</th>\n",
              "      <th>BASE</th>\n",
              "      <th>LOG</th>\n",
              "      <th>DIRECCION</th>\n",
              "      <th>IDOPERADOR</th>\n",
              "      <th>AGENDAMIENTO_ESTADO</th>\n",
              "      <th>anos</th>\n",
              "      <th>mes</th>\n",
              "      <th>transcripcion</th>\n",
              "      <th>transcripcion_limpia</th>\n",
              "      <th>Contestador</th>\n",
              "    </tr>\n",
              "  </thead>\n",
              "  <tbody>\n",
              "    <tr>\n",
              "      <th>0</th>\n",
              "      <td>0</td>\n",
              "      <td>2</td>\n",
              "      <td>661</td>\n",
              "      <td>661</td>\n",
              "      <td>416983</td>\n",
              "      <td>RMS376409458092003</td>\n",
              "      <td>AMEX_PARM</td>\n",
              "      <td>3760</td>\n",
              "      <td>5</td>\n",
              "      <td>46041511-59040567-20210423110401.mp3</td>\n",
              "      <td>...</td>\n",
              "      <td>0</td>\n",
              "      <td>|0|46041511|DAHDI/195-91c|1619187461.23019|16:...</td>\n",
              "      <td>SALIENTE</td>\n",
              "      <td>ROBI</td>\n",
              "      <td>INTERESADO</td>\n",
              "      <td>2021</td>\n",
              "      <td>4</td>\n",
              "      <td>['Hola', ' Buen día, la señora Miriam Margaluc...</td>\n",
              "      <td>buen dia la senora miriam margaluchio  si  esa...</td>\n",
              "      <td>0</td>\n",
              "    </tr>\n",
              "    <tr>\n",
              "      <th>1</th>\n",
              "      <td>1</td>\n",
              "      <td>17</td>\n",
              "      <td>4339</td>\n",
              "      <td>4339</td>\n",
              "      <td>541329</td>\n",
              "      <td>DNIE95346786</td>\n",
              "      <td>FRANCES_2012</td>\n",
              "      <td>3999</td>\n",
              "      <td>30</td>\n",
              "      <td>1569593826-59557028-20210503155546.mp3</td>\n",
              "      <td>...</td>\n",
              "      <td>0</td>\n",
              "      <td>|0|1569593826|SIP/Telular27-0000ec32|162006902...</td>\n",
              "      <td>SALIENTE</td>\n",
              "      <td>PERNICO</td>\n",
              "      <td>INTERESADO</td>\n",
              "      <td>2021</td>\n",
              "      <td>5</td>\n",
              "      <td>['[00:00.000 --&gt; 00:10.620]  Buenas tardes con...</td>\n",
              "      <td>buenas tardes con el senor arnaldo vazquez mi ...</td>\n",
              "      <td>0</td>\n",
              "    </tr>\n",
              "    <tr>\n",
              "      <th>2</th>\n",
              "      <td>2</td>\n",
              "      <td>24</td>\n",
              "      <td>4359</td>\n",
              "      <td>4359</td>\n",
              "      <td>541521</td>\n",
              "      <td>DNI 34651359</td>\n",
              "      <td>FRANCES_2012</td>\n",
              "      <td>1714</td>\n",
              "      <td>30</td>\n",
              "      <td>1570180993-59557393-20210503160458.mp3</td>\n",
              "      <td>...</td>\n",
              "      <td>0</td>\n",
              "      <td>|0|1570180993|SIP/Telular27-0000eed0|162006957...</td>\n",
              "      <td>SALIENTE</td>\n",
              "      <td>RSUAREZ</td>\n",
              "      <td>COMPROMISO</td>\n",
              "      <td>2021</td>\n",
              "      <td>5</td>\n",
              "      <td>['[00:00.000 --&gt; 00:02.000]  Hola.', '[00:02.0...</td>\n",
              "      <td>si buenas tardes con lucas zoban     si que ta...</td>\n",
              "      <td>0</td>\n",
              "    </tr>\n",
              "    <tr>\n",
              "      <th>3</th>\n",
              "      <td>3</td>\n",
              "      <td>27</td>\n",
              "      <td>4364</td>\n",
              "      <td>4364</td>\n",
              "      <td>541705</td>\n",
              "      <td>DNI 50015563</td>\n",
              "      <td>FRANCES_2012</td>\n",
              "      <td>1767</td>\n",
              "      <td>30</td>\n",
              "      <td>1553745044-59557727-20210503161247.mp3</td>\n",
              "      <td>...</td>\n",
              "      <td>0</td>\n",
              "      <td>|0|1553745044|SIP/Telular35-0000f118|162007004...</td>\n",
              "      <td>SALIENTE</td>\n",
              "      <td>CEZAPATA</td>\n",
              "      <td>INTERESADO</td>\n",
              "      <td>2021</td>\n",
              "      <td>5</td>\n",
              "      <td>['[00:00.000 --&gt; 00:07.000]  Hola. Hola, buena...</td>\n",
              "      <td>buenas tardes me queria comunicar con luis el ...</td>\n",
              "      <td>0</td>\n",
              "    </tr>\n",
              "    <tr>\n",
              "      <th>4</th>\n",
              "      <td>4</td>\n",
              "      <td>42</td>\n",
              "      <td>4380</td>\n",
              "      <td>4380</td>\n",
              "      <td>542004</td>\n",
              "      <td>DNI 22567025</td>\n",
              "      <td>FRANCES_2012</td>\n",
              "      <td>3156</td>\n",
              "      <td>30</td>\n",
              "      <td>0351156478139-59558261-20210503162608.mp3</td>\n",
              "      <td>...</td>\n",
              "      <td>0</td>\n",
              "      <td>|0|0351156478139|SIP/Telular21-0000f4c2|162007...</td>\n",
              "      <td>SALIENTE</td>\n",
              "      <td>RVICEN</td>\n",
              "      <td>INTERESADO</td>\n",
              "      <td>2021</td>\n",
              "      <td>5</td>\n",
              "      <td>['[00:00.000 --&gt; 00:04.200]  Hola, buenas tard...</td>\n",
              "      <td>buenas tardes si buenas tardes carlos     si c...</td>\n",
              "      <td>0</td>\n",
              "    </tr>\n",
              "  </tbody>\n",
              "</table>\n",
              "<p>5 rows × 31 columns</p>\n",
              "</div>\n",
              "      <button class=\"colab-df-convert\" onclick=\"convertToInteractive('df-ffcb719b-ea84-48f4-ac20-f2332be1091d')\"\n",
              "              title=\"Convert this dataframe to an interactive table.\"\n",
              "              style=\"display:none;\">\n",
              "        \n",
              "  <svg xmlns=\"http://www.w3.org/2000/svg\" height=\"24px\"viewBox=\"0 0 24 24\"\n",
              "       width=\"24px\">\n",
              "    <path d=\"M0 0h24v24H0V0z\" fill=\"none\"/>\n",
              "    <path d=\"M18.56 5.44l.94 2.06.94-2.06 2.06-.94-2.06-.94-.94-2.06-.94 2.06-2.06.94zm-11 1L8.5 8.5l.94-2.06 2.06-.94-2.06-.94L8.5 2.5l-.94 2.06-2.06.94zm10 10l.94 2.06.94-2.06 2.06-.94-2.06-.94-.94-2.06-.94 2.06-2.06.94z\"/><path d=\"M17.41 7.96l-1.37-1.37c-.4-.4-.92-.59-1.43-.59-.52 0-1.04.2-1.43.59L10.3 9.45l-7.72 7.72c-.78.78-.78 2.05 0 2.83L4 21.41c.39.39.9.59 1.41.59.51 0 1.02-.2 1.41-.59l7.78-7.78 2.81-2.81c.8-.78.8-2.07 0-2.86zM5.41 20L4 18.59l7.72-7.72 1.47 1.35L5.41 20z\"/>\n",
              "  </svg>\n",
              "      </button>\n",
              "      \n",
              "  <style>\n",
              "    .colab-df-container {\n",
              "      display:flex;\n",
              "      flex-wrap:wrap;\n",
              "      gap: 12px;\n",
              "    }\n",
              "\n",
              "    .colab-df-convert {\n",
              "      background-color: #E8F0FE;\n",
              "      border: none;\n",
              "      border-radius: 50%;\n",
              "      cursor: pointer;\n",
              "      display: none;\n",
              "      fill: #1967D2;\n",
              "      height: 32px;\n",
              "      padding: 0 0 0 0;\n",
              "      width: 32px;\n",
              "    }\n",
              "\n",
              "    .colab-df-convert:hover {\n",
              "      background-color: #E2EBFA;\n",
              "      box-shadow: 0px 1px 2px rgba(60, 64, 67, 0.3), 0px 1px 3px 1px rgba(60, 64, 67, 0.15);\n",
              "      fill: #174EA6;\n",
              "    }\n",
              "\n",
              "    [theme=dark] .colab-df-convert {\n",
              "      background-color: #3B4455;\n",
              "      fill: #D2E3FC;\n",
              "    }\n",
              "\n",
              "    [theme=dark] .colab-df-convert:hover {\n",
              "      background-color: #434B5C;\n",
              "      box-shadow: 0px 1px 3px 1px rgba(0, 0, 0, 0.15);\n",
              "      filter: drop-shadow(0px 1px 2px rgba(0, 0, 0, 0.3));\n",
              "      fill: #FFFFFF;\n",
              "    }\n",
              "  </style>\n",
              "\n",
              "      <script>\n",
              "        const buttonEl =\n",
              "          document.querySelector('#df-ffcb719b-ea84-48f4-ac20-f2332be1091d button.colab-df-convert');\n",
              "        buttonEl.style.display =\n",
              "          google.colab.kernel.accessAllowed ? 'block' : 'none';\n",
              "\n",
              "        async function convertToInteractive(key) {\n",
              "          const element = document.querySelector('#df-ffcb719b-ea84-48f4-ac20-f2332be1091d');\n",
              "          const dataTable =\n",
              "            await google.colab.kernel.invokeFunction('convertToInteractive',\n",
              "                                                     [key], {});\n",
              "          if (!dataTable) return;\n",
              "\n",
              "          const docLinkHtml = 'Like what you see? Visit the ' +\n",
              "            '<a target=\"_blank\" href=https://colab.research.google.com/notebooks/data_table.ipynb>data table notebook</a>'\n",
              "            + ' to learn more about interactive tables.';\n",
              "          element.innerHTML = '';\n",
              "          dataTable['output_type'] = 'display_data';\n",
              "          await google.colab.output.renderOutput(dataTable, element);\n",
              "          const docLink = document.createElement('div');\n",
              "          docLink.innerHTML = docLinkHtml;\n",
              "          element.appendChild(docLink);\n",
              "        }\n",
              "      </script>\n",
              "    </div>\n",
              "  </div>\n",
              "  "
            ]
          },
          "metadata": {},
          "execution_count": 4
        }
      ]
    },
    {
      "cell_type": "code",
      "source": [
        "df.IDCLIENTE.value_counts()"
      ],
      "metadata": {
        "colab": {
          "base_uri": "https://localhost:8080/"
        },
        "id": "vvTO-e1TC1uj",
        "outputId": "a96d9f68-bd76-4912-93e4-b99d2dcbed80"
      },
      "execution_count": null,
      "outputs": [
        {
          "output_type": "execute_result",
          "data": {
            "text/plain": [
              "FRANCES_2012            157\n",
              "BSR_TARDIA              121\n",
              "AMEX_PARM                16\n",
              "AMEX_ALHR                16\n",
              "AMEX_ALLR                11\n",
              "HSBC_LEGALES_TEMP         6\n",
              "HSBC_2019                 4\n",
              "HSBC_LEGALES14            4\n",
              "AMEX_PALM                 3\n",
              "AMEX_PBRM                 3\n",
              "AMEX_TNLM                 3\n",
              "AMEX_QINM                 3\n",
              "AMEX_PBLM                 2\n",
              "AMEX_QIPM                 2\n",
              "AMEX_PNCM                 1\n",
              "Name: IDCLIENTE, dtype: int64"
            ]
          },
          "metadata": {},
          "execution_count": 4
        }
      ]
    },
    {
      "cell_type": "code",
      "source": [
        "df.AGENDAMIENTO_ESTADO.value_counts()"
      ],
      "metadata": {
        "colab": {
          "base_uri": "https://localhost:8080/"
        },
        "id": "ihVIRH-bC-B-",
        "outputId": "b6891c74-b783-49e1-9df1-4f46a22f3769"
      },
      "execution_count": null,
      "outputs": [
        {
          "output_type": "execute_result",
          "data": {
            "text/plain": [
              "INTERESADO              255\n",
              "COMPROMISO               97\n",
              "Name: AGENDAMIENTO_ESTADO, dtype: int64"
            ]
          },
          "metadata": {},
          "execution_count": 5
        }
      ]
    },
    {
      "cell_type": "code",
      "source": [
        "compromiso = df[df['AGENDAMIENTO_ESTADO'].str.contains('COMPROMISO') == True]\n",
        "interesado = df[df['AGENDAMIENTO_ESTADO'].str.contains('COMPROMISO') != True]"
      ],
      "metadata": {
        "id": "zwrXkzT5DGHJ"
      },
      "execution_count": null,
      "outputs": []
    },
    {
      "cell_type": "code",
      "source": [
        "len(compromiso), len(interesado), len(df)"
      ],
      "metadata": {
        "colab": {
          "base_uri": "https://localhost:8080/"
        },
        "id": "w1GmEK2MDRuY",
        "outputId": "f4969c09-35e9-445d-a952-e151be06234f"
      },
      "execution_count": null,
      "outputs": [
        {
          "output_type": "execute_result",
          "data": {
            "text/plain": [
              "(97, 255)"
            ]
          },
          "metadata": {},
          "execution_count": 7
        }
      ]
    },
    {
      "cell_type": "code",
      "source": [
        "compromiso.reset_index(inplace=True , drop=True)\n",
        "interesado.reset_index(inplace=True , drop=True)"
      ],
      "metadata": {
        "id": "Zrq9goXyDYp1"
      },
      "execution_count": null,
      "outputs": []
    },
    {
      "cell_type": "code",
      "source": [
        "df.transcripcion_limpia[2]"
      ],
      "metadata": {
        "colab": {
          "base_uri": "https://localhost:8080/",
          "height": 105
        },
        "id": "Enme6HwJsM-z",
        "outputId": "d6a18052-f4a7-417b-bd4c-37b237efa1fd"
      },
      "execution_count": null,
      "outputs": [
        {
          "output_type": "execute_result",
          "data": {
            "text/plain": [
              "'si buenas tardes con lucas zoban     si que tal     que tal te hablo de la agencia de cobranza de mi opc por banco princes     si dice     decime     no no te estoy llamando para saber si realizaste la cancelacion de tu deuda     mira me llamo un chico el viernes y le dije que esta semana la iba a pagar     en estos dias ya he depositado la plata en el numero de cuentas que me dieron     si me dieron un numero de cuentas     en estos dias lo que pasa es que le dijo que me llamo el treinta     digo mira no tengo ahora para depositar     digo en estos dias te le deposito     me dijo bueno dejo informado     asi que en estos dias si ya la cancelaria la deuda     lucas yo pido una prorroga de pagos hasta el dia viernes     porque si la cancelacion es hasta el treinta     despues de esta semana seguramente se modifique el saldo a deudor     no no no     quedate tranquila que yo ya manana tengo la plata     asi que sabe por si te hare manana o pasaba     bueno recuerda mandarnos el ticket     asi nosotros podemos registrar el pago     y ya poder solicitar al banco que cierre la cuenta para que tenga el libre deuda     treinta dias como mucho si     que hago cuando tengo el ticket como te lo envio por aca     sacanle una foto al ticket y mandalo por whatsapp     ah bueno     si nosotros lo recibimos     te contestamos que hayamos ingresado o sea que verificamos el pago en la cuenta     y ahi ya pasamos la cancelacion al banco     y treinta dias despues puedes ir a la secursal      que es la de lomas de zamora y ahi pedire libre deuda     ah despues de que yo hago el pago     despues que haces el pago treinta dias porque esto va con el cierre de visa     y ya puedes pedir el libre deuda     ah listo listo     bueno quedate tranquila que yo entre manana seguramente ya tengo el dinero     bueno listo que vamos a la espera de tu mensaje entonces     bueno hasta luego     gracias'"
            ],
            "application/vnd.google.colaboratory.intrinsic+json": {
              "type": "string"
            }
          },
          "metadata": {},
          "execution_count": 5
        }
      ]
    },
    {
      "cell_type": "code",
      "source": [
        "#Preprocesar el diálogo: dividir el diálogo en oraciones y tokenizar las oraciones en palabras individuales\n",
        "sentences = nltk.sent_tokenize(df.transcripcion_limpia[2])\n",
        "tokens = [nltk.word_tokenize(sent) for sent in sentences]\n",
        "\n",
        "# Identificar patrones comunes en la estructura del diálogo: buscar palabras o frases comunes que se utilizan para marcar el inicio o el final de un turno de habla\n",
        "turn_markers = [\"yo\", \"si\", \"ella\", \"nosotros\", \"nosotras\", \"ustedes\", \"ellos\", \"ellas\",\"presentacion\", \"datos\", \"deuda\", \"negociacion\", \"chau\",\"buen\",'trabajo','cuotas',\"buenas\",\"buenos\",'bueno']\n",
        "turns = []\n",
        "current_turn = []\n",
        "\n",
        "for token_list in tokens:\n",
        "    for token in token_list:\n",
        "        if token.lower() in turn_markers:\n",
        "            if current_turn:\n",
        "                turns.append(current_turn)\n",
        "                current_turn = []\n",
        "        current_turn.append(token)\n",
        "if current_turn:\n",
        "    turns.append(current_turn)\n",
        "\n",
        "# Dividir el diálogo en turnos de habla utilizando los patrones identificados en el paso anterior\n",
        "dialogue_turns = []\n",
        "for turn in turns:\n",
        "    turn_text = \" \".join(turn)\n",
        "    dialogue_turns.append(turn_text)\n",
        "# Imprimir los turnos de habla divididos\n",
        "for turn in dialogue_turns:\n",
        "    print(turn)"
      ],
      "metadata": {
        "colab": {
          "base_uri": "https://localhost:8080/"
        },
        "id": "nQBuYbjTrDJo",
        "outputId": "368bd71c-1085-4408-ee42-346d01d81065"
      },
      "execution_count": null,
      "outputs": [
        {
          "output_type": "stream",
          "name": "stdout",
          "text": [
            "si\n",
            "buenas tardes con lucas zoban\n",
            "si que tal que tal te hablo de la agencia de cobranza de mi opc por banco princes\n",
            "si dice decime no no te estoy llamando para saber\n",
            "si realizaste la cancelacion de tu\n",
            "deuda mira me llamo un chico el viernes y le dije que esta semana la iba a pagar en estos dias ya he depositado la plata en el numero de cuentas que me dieron\n",
            "si me dieron un numero de cuentas en estos dias lo que pasa es que le dijo que me llamo el treinta digo mira no tengo ahora para depositar digo en estos dias te le deposito me dijo\n",
            "bueno dejo informado asi que en estos dias\n",
            "si ya la cancelaria la\n",
            "deuda lucas\n",
            "yo pido una prorroga de pagos hasta el dia viernes porque\n",
            "si la cancelacion es hasta el treinta despues de esta semana seguramente se modifique el saldo a deudor no no no quedate tranquila que\n",
            "yo ya manana tengo la plata asi que sabe por\n",
            "si te hare manana o pasaba\n",
            "bueno recuerda mandarnos el ticket asi\n",
            "nosotros podemos registrar el pago y ya poder solicitar al banco que cierre la cuenta para que tenga el libre\n",
            "deuda treinta dias como mucho\n",
            "si que hago cuando tengo el ticket como te lo envio por aca sacanle una foto al ticket y mandalo por whatsapp ah\n",
            "bueno\n",
            "si\n",
            "nosotros lo recibimos te contestamos que hayamos ingresado o sea que verificamos el pago en la cuenta y ahi ya pasamos la cancelacion al banco y treinta dias despues puedes ir a la secursal que es la de lomas de zamora y ahi pedire libre\n",
            "deuda ah despues de que\n",
            "yo hago el pago despues que haces el pago treinta dias porque esto va con el cierre de visa y ya puedes pedir el libre\n",
            "deuda ah listo listo\n",
            "bueno quedate tranquila que\n",
            "yo entre manana seguramente ya tengo el dinero\n",
            "bueno listo que vamos a la espera de tu mensaje entonces\n",
            "bueno hasta luego gracias\n"
          ]
        }
      ]
    },
    {
      "cell_type": "code",
      "source": [
        "from nltk.corpus import stopwords\n",
        "from nltk.probability import FreqDist\n",
        "from nltk.cluster.util import cosine_distance\n",
        "from sklearn.decomposition import LatentDirichletAllocation\n",
        "import scipy.sparse\n",
        "from rake_nltk import Rake\n",
        "import numpy as np\n",
        "from nltk.sentiment.vader import SentimentIntensityAnalyzer\n",
        "from nltk.probability import FreqDist\n",
        "import re\n",
        "import collections\n",
        "\n",
        "def Proceso(frases, frase_original):\n",
        "# Preprocesar el diálogo: dividir el diálogo en oraciones y tokenizar las oraciones en palabras individuales\n",
        "    negotiations = []\n",
        "    for negotiation in frases:\n",
        "      sentences = nltk.sent_tokenize(frases)\n",
        "      tokens = [nltk.word_tokenize(sent) for sent in sentences]\n",
        "      negotiations.append(tokens)\n",
        "      turn_markers = [\"yo\", \"si\", \"ella\", \"nosotros\", \"nosotras\", \"ustedes\", \"ellos\", \"ellas\",\"presentacion\", \"datos\", \"deuda\", \"negociacion\", \"chau\",\"buen\",'trabajo','cuotas',\"buenas\",\"buenos\",'bueno']\n",
        "      turns_per_negotiation = []\n",
        "      for negociacion in negotiations:\n",
        "          turns = []\n",
        "          current_turn = []\n",
        "          for token_list in negociacion:\n",
        "            for token in token_list:\n",
        "                if token.lower() in turn_markers:\n",
        "                    if current_turn:\n",
        "                        turns.append(current_turn)\n",
        "                        current_turn = []\n",
        "                current_turn.append(token)\n",
        "          if current_turn:\n",
        "              turns.append(current_turn)\n",
        "      # Dividir el diálogo en turnos de habla utilizando los patrones identificados en el paso anterior\n",
        "      dialogue_turns = []\n",
        "      for turn in turns:\n",
        "          turn_text = \" \".join(turn)\n",
        "          dialogue_turns.append(turn_text)\n",
        "          turns_per_negotiation.append(turns)\n",
        "\n",
        "    # Create a list of stopwords\n",
        "    stop_words = set(stopwords.words('spanish'))\n",
        "\n",
        "    # Filter out stopwords from the tokens\n",
        "    filtered_tokens = []\n",
        "    for negotiation in frase_original:\n",
        "      frasees = nltk.sent_tokenize(negotiation)\n",
        "      tokenss = [nltk.word_tokenize(sent) for sent in frasees]\n",
        "    for token_list in tokenss:\n",
        "        filtered_tokens.append([tokens for tokens in token_list if tokens.lower() not in stop_words])\n",
        "\n",
        "    # Create a dictionary object from the filtered tokens\n",
        "    dictionary = collections.Counter([tokens for token_list in filtered_tokens for tokens in token_list])\n",
        "\n",
        "    # Create a corpus from the filtered tokens\n",
        "    corpus = [{k: v for k, v in dictionary.items() if k in text} for text in filtered_tokens]\n",
        "\n",
        "    # Fit an LDA model to the corpus\n",
        "    # Convert the corpus into a list of lists\n",
        "    corpus_2d = [[count for word, count in doc.items()] for doc in corpus]\n",
        "\n",
        "    # Convert the list of lists into a sparse matrix\n",
        "    corpus_sparse = scipy.sparse.coo_matrix(corpus_2d)\n",
        "\n",
        "    # Fit the LDA model to the sparse matrix\n",
        "    lda = LatentDirichletAllocation(n_components=3, random_state=0)\n",
        "    topics = lda.fit_transform(corpus_sparse)\n",
        "\n",
        "\n",
        "    # Extraer palabras clave utilizando RAKE (Rapid Automatic Keyword Extraction)\n",
        "    rake = Rake()\n",
        "    for token_list in filtered_tokens:\n",
        "      rake.extract_keywords_from_text(\" \".join(token_list))\n",
        "      keywords = rake.get_ranked_phrases()\n",
        "\n",
        "    # Analizar la estructura del diálogo: buscar patrones comunes en la forma en que se presentan las intervenciones\n",
        "    turn_lengths = []\n",
        "    for token_list in tokens:\n",
        "        turn_lengths.append(len(token_list))\n",
        "    mean_turn_length = np.mean(turn_lengths)\n",
        "\n",
        "\n",
        "    debt_information = []\n",
        "    # negotiation_reasons = []\n",
        "    for negotiation in dialogue_turns:\n",
        "      debt_info = {}\n",
        "      reason = ''\n",
        "      for turn in negotiation:\n",
        "        for k in range(len(keywords)):\n",
        "          if  keywords[k] in turn:\n",
        "            for token in turn:\n",
        "            # print(re.findall('('+'|'.join(key_words)+')'+r'\\s+([ A-Z]+[A-Z])',token))\n",
        "              if re.search('|'.join(keywords[k]), token):\n",
        "                debt_info[\"pago\"] = \" \".join(turn[turn.index(token)+1:])\n",
        "\n",
        "        debt_information.append(debt_info)\n",
        "      #   elif \"negociacion\" or \"trabajo\" or 'cuotas' in turn:\n",
        "      #       for token in turn:\n",
        "      #           # if token.lower() == \"porque\":\n",
        "      #           reason = \" \".join(turn[turn.index(token)+1:])\n",
        "      #           break\n",
        "      # negotiation_reasons.append(reason)\n",
        "\n",
        "      \n",
        "      # # Analizar el sentimiento de cada negociación utilizando VADER (Valence Aware Dictionary and sEntiment Reasoner)\n",
        "    sia = SentimentIntensityAnalyzer()\n",
        "    negotiation_sentiments = []\n",
        "    for negotiation in negotiations:\n",
        "        negotiation_text = \" \".join([\" \".join(x) for x in negotiation])\n",
        "        negotiation_sentiment = sia.polarity_scores(negotiation_text)\n",
        "        negotiation_sentiments.append(negotiation_sentiment)\n",
        "\n",
        "\n",
        "\n",
        "    # Imprimir los resultados\n",
        "    print(\"Temas:\")\n",
        "    for i, topic in enumerate(topics):\n",
        "        print(f\"Tema {i}: {topic}\")\n",
        "    print(\"\\nPalabras clave:\")\n",
        "    print(keywords)\n",
        "    print(\"\\nLongitud promedio de los turnos de habla:\")\n",
        "    print(mean_turn_length)\n",
        "    print(\"\\nSentimientos en la negocion\")\n",
        "    print(negotiation_sentiments)\n",
        "    return keywords"
      ],
      "metadata": {
        "id": "alwBpxhDseJ9"
      },
      "execution_count": null,
      "outputs": []
    },
    {
      "cell_type": "code",
      "source": [
        "# Keywords = Proceso(compromiso.transcripcion_limpia[9],compromiso.transcripcion.head(10))"
      ],
      "metadata": {
        "id": "BowJRre37s_x"
      },
      "execution_count": 1,
      "outputs": []
    },
    {
      "cell_type": "code",
      "source": [
        "str(dialogue_turns).replace('[','')"
      ],
      "metadata": {
        "colab": {
          "base_uri": "https://localhost:8080/",
          "height": 105
        },
        "id": "psUrOT3RUHOV",
        "outputId": "b9559471-6f2e-48f7-d24d-b00153185e7c"
      },
      "execution_count": null,
      "outputs": [
        {
          "output_type": "execute_result",
          "data": {
            "text/plain": [
              "\"'si', 'buenas tardes con lucas zoban', 'si que tal que tal te hablo de la agencia de cobranza de mi opc por banco princes', 'si dice decime no no te estoy llamando para saber', 'si realizaste la cancelacion de tu', 'deuda mira me llamo un chico el viernes y le dije que esta semana la iba a pagar en estos dias ya he depositado la plata en el numero de cuentas que me dieron', 'si me dieron un numero de cuentas en estos dias lo que pasa es que le dijo que me llamo el treinta digo mira no tengo ahora para depositar digo en estos dias te le deposito me dijo', 'bueno dejo informado asi que en estos dias', 'si ya la cancelaria la', 'deuda lucas', 'yo pido una prorroga de pagos hasta el dia viernes porque', 'si la cancelacion es hasta el treinta despues de esta semana seguramente se modifique el saldo a deudor no no no quedate tranquila que', 'yo ya manana tengo la plata asi que sabe por', 'si te hare manana o pasaba', 'bueno recuerda mandarnos el ticket asi', 'nosotros podemos registrar el pago y ya poder solicitar al banco que cierre la cuenta para que tenga el libre', 'deuda treinta dias como mucho', 'si que hago cuando tengo el ticket como te lo envio por aca sacanle una foto al ticket y mandalo por whatsapp ah', 'bueno', 'si', 'nosotros lo recibimos te contestamos que hayamos ingresado o sea que verificamos el pago en la cuenta y ahi ya pasamos la cancelacion al banco y treinta dias despues puedes ir a la secursal que es la de lomas de zamora y ahi pedire libre', 'deuda ah despues de que', 'yo hago el pago despues que haces el pago treinta dias porque esto va con el cierre de visa y ya puedes pedir el libre', 'deuda ah listo listo', 'bueno quedate tranquila que', 'yo entre manana seguramente ya tengo el dinero', 'bueno listo que vamos a la espera de tu mensaje entonces', 'bueno hasta luego gracias']\""
            ],
            "application/vnd.google.colaboratory.intrinsic+json": {
              "type": "string"
            }
          },
          "metadata": {},
          "execution_count": 172
        }
      ]
    },
    {
      "cell_type": "code",
      "source": [
        "Proceso(df.transcripcion_limpia.head(10))"
      ],
      "metadata": {
        "colab": {
          "base_uri": "https://localhost:8080/"
        },
        "id": "pXEewzVIQKLH",
        "outputId": "6a4638b0-b8ac-4578-9b8e-93c8ff788644"
      },
      "execution_count": null,
      "outputs": [
        {
          "output_type": "stream",
          "name": "stdout",
          "text": [
            "Temas:\n",
            "Tema 0: [0.99585537 0.00207231 0.00207231]\n",
            "\n",
            "Palabras clave:\n",
            "['si buenas tardes hablo acosta david si buenas tardes david habla ahorita agencia cobranzas mopc banco vbva si decime salo quedo pendiente banco david habia sido motivo atraso momento cuestiones economicas tendria ir banco hablarlo verdad ponerme dia entiendo perfecto habia pasado usted plan whatsapp si banco dirigio lodajo agencia cobranzas mopc si quiere acercar cobranza igualmente voy hablar banco perfecto voy hablar banco agencia bien cuenta david van derivar automaticamente si irifa cursal posible favor bueno tema plan pago habia pasado banco actual alcalde saldo paso banco actual ustedes pueden honorarios sino orarios ustedes podrian enviar extracto cuen digamos detalle deuda pedir cursal resumen visa si resumen unicamente cursal podemos observar bien ok perfecto bueno bien perfecto subir sal igual si si mandame tres cuotas si deuda mas sonorarios tres cuotas saldo habia pasado martes semana pasada bueno dale ahora vi quiera cursal dias si vere hablare perfecto david bueno aguardo entonces informe si vale bueno muchas gracias eh adios luego luego luego']\n",
            "\n",
            "Longitud promedio de los turnos de habla:\n",
            "315.0\n",
            "\n",
            "Sentimientos en la negocion\n",
            "[{'neg': 0.02, 'neu': 0.936, 'pos': 0.044, 'compound': 0.6705}, {'neg': 0.058, 'neu': 0.913, 'pos': 0.029, 'compound': -0.8519}, {'neg': 0.039, 'neu': 0.948, 'pos': 0.013, 'compound': -0.7783}, {'neg': 0.067, 'neu': 0.859, 'pos': 0.074, 'compound': 0.5423}, {'neg': 0.083, 'neu': 0.907, 'pos': 0.01, 'compound': -0.9985}, {'neg': 0.074, 'neu': 0.912, 'pos': 0.014, 'compound': -0.891}, {'neg': 0.077, 'neu': 0.891, 'pos': 0.032, 'compound': -0.8271}, {'neg': 0.057, 'neu': 0.92, 'pos': 0.024, 'compound': -0.9732}, {'neg': 0.023, 'neu': 0.951, 'pos': 0.026, 'compound': 0.128}, {'neg': 0.028, 'neu': 0.92, 'pos': 0.052, 'compound': 0.765}]\n"
          ]
        },
        {
          "output_type": "execute_result",
          "data": {
            "text/plain": [
              "['si buenas tardes hablo acosta david si buenas tardes david habla ahorita agencia cobranzas mopc banco vbva si decime salo quedo pendiente banco david habia sido motivo atraso momento cuestiones economicas tendria ir banco hablarlo verdad ponerme dia entiendo perfecto habia pasado usted plan whatsapp si banco dirigio lodajo agencia cobranzas mopc si quiere acercar cobranza igualmente voy hablar banco perfecto voy hablar banco agencia bien cuenta david van derivar automaticamente si irifa cursal posible favor bueno tema plan pago habia pasado banco actual alcalde saldo paso banco actual ustedes pueden honorarios sino orarios ustedes podrian enviar extracto cuen digamos detalle deuda pedir cursal resumen visa si resumen unicamente cursal podemos observar bien ok perfecto bueno bien perfecto subir sal igual si si mandame tres cuotas si deuda mas sonorarios tres cuotas saldo habia pasado martes semana pasada bueno dale ahora vi quiera cursal dias si vere hablare perfecto david bueno aguardo entonces informe si vale bueno muchas gracias eh adios luego luego luego']"
            ]
          },
          "metadata": {},
          "execution_count": 181
        }
      ]
    },
    {
      "cell_type": "code",
      "source": [
        "sentences = nltk.sent_tokenize(df.transcripcion[9])\n",
        "tokens = [nltk.word_tokenize(sent) for sent in sentences]\n",
        "stop_words = set(stopwords.words('spanish'))\n",
        "filtered_tokens = []\n",
        "for token_list in tokens:\n",
        "    filtered_tokens.append([token for token in token_list if token.lower() not in stop_words])\n",
        "rake = Rake()\n",
        "for token_list in filtered_tokens:\n",
        "  rake.extract_keywords_from_text(\" \".join(token_list))\n",
        "  keywords = rake.get_ranked_phrases()"
      ],
      "metadata": {
        "id": "aXrUD9sJSmap"
      },
      "execution_count": null,
      "outputs": []
    },
    {
      "cell_type": "code",
      "source": [
        "keywords"
      ],
      "metadata": {
        "colab": {
          "base_uri": "https://localhost:8080/"
        },
        "id": "ccqZ3f5fTB0C",
        "outputId": "7d500bd6-7c2e-4e81-cb28-32cae8cbbd49"
      },
      "execution_count": null,
      "outputs": [
        {
          "output_type": "execute_result",
          "data": {
            "text/plain": [
              "['340 --', 'luego', '27', '14', '060', '02', '02']"
            ]
          },
          "metadata": {},
          "execution_count": 179
        }
      ]
    },
    {
      "cell_type": "code",
      "source": [
        "print(df.transcripcion[9].replace(', ','\\n'))"
      ],
      "metadata": {
        "colab": {
          "base_uri": "https://localhost:8080/"
        },
        "id": "jmgZCm5KLwB2",
        "outputId": "15a1ddbe-be40-4e7f-a87f-fa0a4fa3b4d1"
      },
      "execution_count": null,
      "outputs": [
        {
          "output_type": "stream",
          "name": "stdout",
          "text": [
            "['[00:00.000 --> 00:06.020]  Sí\n",
            "buenas tardes. Hablo con Acosta\n",
            "David.'\n",
            "'[00:06.020 --> 00:07.020]  Sí.'\n",
            "'[00:07.020 --> 00:13.020]  Buenas tardes\n",
            "David. Habla ahorita de la agencia de cobranzas M.O.P.C. de Banco VBVA.'\n",
            "'[00:13.020 --> 00:14.020]  Sí\n",
            "decime.'\n",
            "'[00:14.020 --> 00:19.300]  Es por el salo que le quedó pendiente con el Banco\n",
            "David. ¿Cuál había sido el motivo'\n",
            "'[00:19.300 --> 00:20.300]  del atraso?'\n",
            "'[00:20.300 --> 00:27.380]  En el momento\n",
            "cuestiones económicas y tendría que ir al Banco a hablarlo\n",
            "la verdad.'\n",
            "'[00:27.380 --> 00:30.980]  Para ponerme el día.'\n",
            "'[00:30.980 --> 00:37.820]  Entiendo. Perfecto. Yo le había pasado a usted el plan por WhatsApp\n",
            "¿sí? El Banco'\n",
            "'[00:37.820 --> 00:42.780]  dirigió su lodajo a la agencia de cobranzas M.O.P.C. Si se quiere acercar a su cobranza.'\n",
            "'[00:42.780 --> 00:44.980]  Igualmente voy a hablar con el Banco.'\n",
            "'[00:44.980 --> 00:45.980]  Perfecto.'\n",
            "'[00:45.980 --> 00:49.180]  Voy a hablar con el Banco. No con agencia.'\n",
            "'[00:49.180 --> 00:55.940]  Bien. Tenga en cuenta\n",
            "David\n",
            "que lo van a derivar automáticamente con nosotros\n",
            "sí.'\n",
            "'[00:55.940 --> 00:58.660]  Irifa\n",
            "sé a su cursal lo antes posible\n",
            "por favor.'\n",
            "'[00:58.660 --> 01:01.860]  Bueno\n",
            "¿cómo es el tema del plan de pago?'\n",
            "'[01:01.860 --> 01:06.060]  Yo le había pasado en el Banco actual.'\n",
            "'[01:06.060 --> 01:09.340]  Es un alcalde que tiene 10.000 y algo.'\n",
            "'[01:09.340 --> 01:12.260]  El saldo que pasó el Banco actual es de 15.900.'\n",
            "'[01:12.260 --> 01:15.740]  No\n",
            "pero ustedes me pueden...'\n",
            "'[01:15.740 --> 01:17.980]  No\n",
            "con honorarios. Eso es sino en orarios.'\n",
            "'[01:17.980 --> 01:18.980]  ¿Cómo?'\n",
            "'[01:18.980 --> 01:25.460]  Ustedes me podrían enviar un extracto de la cuen\n",
            "digamos\n",
            "del...'\n",
            "'[01:25.460 --> 01:26.460]  El detalle.'\n",
            "'[01:26.460 --> 01:27.460]  Deuda.'\n",
            "'[01:27.460 --> 01:29.660]  Y eso lo tiene que pedir en su cursal.'\n",
            "'[01:29.660 --> 01:33.060]  El resumen\n",
            "porque esto es de visa\n",
            "sí.'\n",
            "'[01:33.060 --> 01:35.340]  El resumen es únicamente en su cursal.'\n",
            "'[01:35.340 --> 01:38.340]  Esto nosotros no se lo podemos observar.'\n",
            "'[01:38.340 --> 01:39.340]  Bien.'\n",
            "'[01:39.340 --> 01:40.340]  Ok\n",
            "perfecto.'\n",
            "'[01:40.340 --> 01:41.340]  Bueno.'\n",
            "'[01:41.340 --> 01:42.340]  Está bien.'\n",
            "'[01:42.340 --> 01:43.340]  Perfecto.'\n",
            "'[01:43.340 --> 01:44.340]  Tengo que subir al sal igual.'\n",
            "'[01:44.340 --> 01:45.340]  Sí\n",
            "sí.'\n",
            "'[01:45.340 --> 01:46.340]  Mándame...'\n",
            "'[01:46.340 --> 01:47.340]  Estos son 15.'\n",
            "'[01:47.340 --> 01:48.340]  Y son tres cuotas de 5.'\n",
            "'[01:48.340 --> 01:49.340]  ¿O sí?'\n",
            "'[01:49.340 --> 01:54.780]  Son 15.900 de la deuda más 2.900 de los sonorarios.'\n",
            "'[01:54.780 --> 02:01.340]  En tres cuotas de 6.070 es el saldo que ya lo había pasado el martes de la semana'\n",
            "'[02:01.340 --> 02:02.340]  pasada.'\n",
            "'[02:02.340 --> 02:03.340]  Bueno\n",
            "dale.'\n",
            "'[02:03.340 --> 02:04.340]  Yo ahora vi de donde quiera su cursal.'\n",
            "'[02:04.340 --> 02:05.340]  Estos días si veré.'\n",
            "'[02:05.340 --> 02:06.340]  Y hablaré con ellos.'\n",
            "'[02:06.340 --> 02:07.340]  Perfecto\n",
            "David.'\n",
            "'[02:07.340 --> 02:08.340]  Bueno.'\n",
            "'[02:08.340 --> 02:09.340]  Aguardo entonces tu informe\n",
            "¿sí?'\n",
            "'[02:09.340 --> 02:10.340]  Vale\n",
            "bueno.'\n",
            "'[02:10.340 --> 02:11.340]  Muchas gracias\n",
            "eh.'\n",
            "'[02:11.340 --> 02:12.340]  Adiós.'\n",
            "'[02:12.340 --> 02:13.340]  Hasta luego.'\n",
            "'[02:13.340 --> 02:14.340]  Hasta luego.'\n",
            "'[02:14.340 --> 02:27.060]  Hasta luego.']\n"
          ]
        }
      ]
    },
    {
      "cell_type": "code",
      "source": [
        "# negotiations = []\n",
        "# for negotiation in df.transcripcion_limpia:\n",
        "#   sentences = nltk.sent_tokenize(negotiation)\n",
        "#   tokens = [nltk.word_tokenize(sent) for sent in sentences]\n",
        "#   negotiations.append(tokens)\n",
        "#   turn_markers = [\"yo\", \"si\", \"ella\", \"nosotros\", \"nosotras\", \"ustedes\", \"ellos\", \"ellas\",\"presentacion\", \"datos\", \"deuda\", \"negociacion\", \"chau\",\"buen\",'trabajo','cuotas',\"buenas\",\"buenos\",'bueno']\n",
        "#   turns_per_negotiation = []\n",
        "#   for negotiation in negotiations:\n",
        "#       turns = []\n",
        "#       current_turn = []\n",
        "#       for token_list in negotiation:\n",
        "#         for token in token_list:\n",
        "#             if token.lower() in turn_markers:\n",
        "#                 if current_turn:\n",
        "#                     turns.append(current_turn)\n",
        "#                     current_turn = []\n",
        "#             current_turn.append(token)\n",
        "#       if current_turn:\n",
        "#           turns.append(current_turn)\n",
        "#       turns_per_negotiation.append(turns)"
      ],
      "metadata": {
        "id": "JqC68b7wAsag"
      },
      "execution_count": null,
      "outputs": []
    },
    {
      "cell_type": "code",
      "source": [
        "negotiations = []\n",
        "for negotiation in df.transcripcion_limpia:\n",
        "  sentences = nltk.sent_tokenize(negotiation)\n",
        "  tokens = [nltk.word_tokenize(sent) for sent in sentences]\n",
        "  negotiations.append(tokens)\n",
        "  turn_markers = [\"yo\", \"si\", \"ella\", \"nosotros\", \"nosotras\", \"ustedes\", \"ellos\", \"ellas\",\"presentacion\", \"datos\", \"deuda\", \"negociacion\", \"chau\",\"buen\",'trabajo','cuotas',\"buenas\",\"buenos\",'bueno']\n",
        "  turns_per_negotiation = []\n",
        "  for negotiation in negotiations:\n",
        "      turns = []\n",
        "      current_turn = []\n",
        "      for token_list in negotiation:\n",
        "        for token in token_list:\n",
        "            if token.lower() in turn_markers:\n",
        "                if current_turn:\n",
        "                    turns.append(current_turn)\n",
        "                    current_turn = []\n",
        "            current_turn.append(token)\n",
        "      if current_turn:\n",
        "          turns.append(current_turn)\n",
        "      turns_per_negotiation.append(turns)\n",
        "\n",
        "\n",
        "debt_information = []\n",
        "negotiation_reasons = []\n",
        "for negotiation in turns_per_negotiation:\n",
        "  debt_info = {}\n",
        "  reason = ''\n",
        "  for turn in negotiation:\n",
        "    for k in range(len(Keywords)):\n",
        "      if  Keywords[k] in turn:\n",
        "        for token in turn:\n",
        "        # print(re.findall('('+'|'.join(key_words)+')'+r'\\s+([ A-Z]+[A-Z])',token))\n",
        "          if re.search('|'.join(Keywords[k]), token):\n",
        "            debt_info[\"pago\"] = \" \".join(turn[turn.index(token)+1:])\n",
        "\n",
        "    debt_information.append(debt_info)\n",
        "  #   elif \"negociacion\" or \"trabajo\" or 'cuotas' in turn:\n",
        "  #       for token in turn:\n",
        "  #           # if token.lower() == \"porque\":\n",
        "  #           reason = \" \".join(turn[turn.index(token)+1:])\n",
        "  #           break\n",
        "  # negotiation_reasons.append(reason)\n",
        "\n",
        "  \n",
        "  # # Analizar el sentimiento de cada negociación utilizando VADER (Valence Aware Dictionary and sEntiment Reasoner)\n",
        "sia = SentimentIntensityAnalyzer()\n",
        "negotiation_sentiments = []\n",
        "for negotiation in negotiations:\n",
        "    negotiation_text = \" \".join([\" \".join(x) for x in negotiation])\n",
        "    negotiation_sentiment = sia.polarity_scores(negotiation_text)\n",
        "    negotiation_sentiments.append(negotiation_sentiment)\n",
        "\n",
        "\n",
        "# Imprimir los resultados\n",
        "print(\"Información de la deuda:\")\n",
        "print(debt_information)\n",
        "print(\"\\nSentimientos en la negocion\")\n",
        "print(negotiation_sentiments)"
      ],
      "metadata": {
        "colab": {
          "base_uri": "https://localhost:8080/"
        },
        "id": "30roRBE0JS6J",
        "outputId": "67dd4bda-3799-4046-9753-a5aea12c7f60"
      },
      "execution_count": null,
      "outputs": [
        {
          "output_type": "stream",
          "name": "stdout",
          "text": [
            "\n",
            "Sentimientos en la negocion\n",
            "[{'neg': 0.02, 'neu': 0.936, 'pos': 0.044, 'compound': 0.6705}, {'neg': 0.058, 'neu': 0.913, 'pos': 0.029, 'compound': -0.8519}, {'neg': 0.039, 'neu': 0.948, 'pos': 0.013, 'compound': -0.7783}, {'neg': 0.067, 'neu': 0.859, 'pos': 0.074, 'compound': 0.5423}, {'neg': 0.083, 'neu': 0.907, 'pos': 0.01, 'compound': -0.9985}, {'neg': 0.074, 'neu': 0.912, 'pos': 0.014, 'compound': -0.891}, {'neg': 0.077, 'neu': 0.891, 'pos': 0.032, 'compound': -0.8271}, {'neg': 0.057, 'neu': 0.92, 'pos': 0.024, 'compound': -0.9732}, {'neg': 0.023, 'neu': 0.951, 'pos': 0.026, 'compound': 0.128}, {'neg': 0.028, 'neu': 0.92, 'pos': 0.052, 'compound': 0.765}, {'neg': 0.018, 'neu': 0.963, 'pos': 0.019, 'compound': 0.0258}, {'neg': 0.12, 'neu': 0.871, 'pos': 0.009, 'compound': -0.9958}, {'neg': 0.051, 'neu': 0.941, 'pos': 0.008, 'compound': -0.9493}, {'neg': 0.065, 'neu': 0.86, 'pos': 0.075, 'compound': 0.2732}, {'neg': 0.027, 'neu': 0.973, 'pos': 0.0, 'compound': -0.5267}, {'neg': 0.044, 'neu': 0.939, 'pos': 0.017, 'compound': -0.8625}, {'neg': 0.022, 'neu': 0.916, 'pos': 0.061, 'compound': 0.9442}, {'neg': 0.038, 'neu': 0.921, 'pos': 0.041, 'compound': 0.2263}, {'neg': 0.063, 'neu': 0.86, 'pos': 0.077, 'compound': 0.128}, {'neg': 0.041, 'neu': 0.949, 'pos': 0.01, 'compound': -0.981}, {'neg': 0.068, 'neu': 0.929, 'pos': 0.004, 'compound': -0.989}, {'neg': 0.112, 'neu': 0.856, 'pos': 0.033, 'compound': -0.9287}, {'neg': 0.0, 'neu': 1.0, 'pos': 0.0, 'compound': 0.0}, {'neg': 0.041, 'neu': 0.928, 'pos': 0.031, 'compound': -0.5267}, {'neg': 0.126, 'neu': 0.805, 'pos': 0.069, 'compound': -0.7717}, {'neg': 0.063, 'neu': 0.9, 'pos': 0.037, 'compound': -0.836}, {'neg': 0.0, 'neu': 0.903, 'pos': 0.097, 'compound': 0.4019}, {'neg': 0.014, 'neu': 0.958, 'pos': 0.028, 'compound': 0.34}, {'neg': 0.048, 'neu': 0.944, 'pos': 0.008, 'compound': -0.9868}, {'neg': 0.04, 'neu': 0.952, 'pos': 0.008, 'compound': -0.7717}, {'neg': 0.038, 'neu': 0.962, 'pos': 0.0, 'compound': -0.9628}, {'neg': 0.079, 'neu': 0.901, 'pos': 0.02, 'compound': -0.989}, {'neg': 0.058, 'neu': 0.93, 'pos': 0.013, 'compound': -0.9957}, {'neg': 0.054, 'neu': 0.87, 'pos': 0.077, 'compound': 0.7003}, {'neg': 0.068, 'neu': 0.925, 'pos': 0.007, 'compound': -0.9929}, {'neg': 0.086, 'neu': 0.891, 'pos': 0.022, 'compound': -0.9821}, {'neg': 0.038, 'neu': 0.94, 'pos': 0.022, 'compound': -0.9118}, {'neg': 0.0, 'neu': 1.0, 'pos': 0.0, 'compound': 0.0}, {'neg': 0.029, 'neu': 0.935, 'pos': 0.036, 'compound': 0.128}, {'neg': 0.108, 'neu': 0.859, 'pos': 0.033, 'compound': -0.6249}, {'neg': 0.08, 'neu': 0.898, 'pos': 0.022, 'compound': -0.993}, {'neg': 0.105, 'neu': 0.893, 'pos': 0.001, 'compound': -0.9991}, {'neg': 0.083, 'neu': 0.883, 'pos': 0.034, 'compound': -0.7003}, {'neg': 0.052, 'neu': 0.927, 'pos': 0.021, 'compound': -0.6705}, {'neg': 0.09, 'neu': 0.9, 'pos': 0.01, 'compound': -0.9274}, {'neg': 0.071, 'neu': 0.823, 'pos': 0.107, 'compound': 0.5267}, {'neg': 0.0, 'neu': 1.0, 'pos': 0.0, 'compound': 0.0}, {'neg': 0.05, 'neu': 0.919, 'pos': 0.031, 'compound': -0.4939}, {'neg': 0.049, 'neu': 0.895, 'pos': 0.056, 'compound': 0.1779}, {'neg': 0.023, 'neu': 0.977, 'pos': 0.0, 'compound': -0.296}, {'neg': 0.023, 'neu': 0.963, 'pos': 0.014, 'compound': -0.1779}, {'neg': 0.041, 'neu': 0.945, 'pos': 0.014, 'compound': -0.5106}, {'neg': 0.051, 'neu': 0.949, 'pos': 0.0, 'compound': -0.5267}, {'neg': 0.146, 'neu': 0.846, 'pos': 0.007, 'compound': -0.9997}, {'neg': 0.072, 'neu': 0.928, 'pos': 0.0, 'compound': -0.8807}, {'neg': 0.025, 'neu': 0.939, 'pos': 0.036, 'compound': 0.4215}, {'neg': 0.018, 'neu': 0.973, 'pos': 0.008, 'compound': -0.6124}, {'neg': 0.047, 'neu': 0.925, 'pos': 0.029, 'compound': -0.5106}, {'neg': 0.053, 'neu': 0.925, 'pos': 0.022, 'compound': -0.7003}, {'neg': 0.0, 'neu': 1.0, 'pos': 0.0, 'compound': 0.0}, {'neg': 0.017, 'neu': 0.971, 'pos': 0.012, 'compound': -0.4019}, {'neg': 0.039, 'neu': 0.961, 'pos': 0.0, 'compound': -0.296}, {'neg': 0.094, 'neu': 0.892, 'pos': 0.014, 'compound': -0.8979}, {'neg': 0.058, 'neu': 0.915, 'pos': 0.026, 'compound': -0.9794}, {'neg': 0.037, 'neu': 0.963, 'pos': 0.0, 'compound': -0.7783}, {'neg': 0.098, 'neu': 0.866, 'pos': 0.036, 'compound': -0.872}, {'neg': 0.08, 'neu': 0.86, 'pos': 0.06, 'compound': -0.4215}, {'neg': 0.098, 'neu': 0.887, 'pos': 0.015, 'compound': -0.8779}, {'neg': 0.07, 'neu': 0.869, 'pos': 0.062, 'compound': -0.128}, {'neg': 0.0, 'neu': 1.0, 'pos': 0.0, 'compound': 0.0}, {'neg': 0.035, 'neu': 0.886, 'pos': 0.079, 'compound': 0.4215}, {'neg': 0.18, 'neu': 0.82, 'pos': 0.0, 'compound': -0.296}, {'neg': 0.188, 'neu': 0.721, 'pos': 0.091, 'compound': -0.8934}, {'neg': 0.02, 'neu': 0.97, 'pos': 0.01, 'compound': -0.2732}, {'neg': 0.0, 'neu': 0.938, 'pos': 0.062, 'compound': 0.6124}, {'neg': 0.071, 'neu': 0.915, 'pos': 0.015, 'compound': -0.9954}, {'neg': 0.038, 'neu': 0.948, 'pos': 0.014, 'compound': -0.9201}, {'neg': 0.018, 'neu': 0.939, 'pos': 0.044, 'compound': 0.5106}, {'neg': 0.0, 'neu': 1.0, 'pos': 0.0, 'compound': 0.0}, {'neg': 0.057, 'neu': 0.917, 'pos': 0.026, 'compound': -0.9325}, {'neg': 0.024, 'neu': 0.925, 'pos': 0.051, 'compound': 0.34}, {'neg': 0.0, 'neu': 0.937, 'pos': 0.063, 'compound': 0.5574}, {'neg': 0.014, 'neu': 0.955, 'pos': 0.03, 'compound': 0.34}, {'neg': 0.093, 'neu': 0.907, 'pos': 0.0, 'compound': -0.5719}, {'neg': 0.035, 'neu': 0.95, 'pos': 0.015, 'compound': -0.4588}, {'neg': 0.041, 'neu': 0.931, 'pos': 0.028, 'compound': -0.765}, {'neg': 0.018, 'neu': 0.954, 'pos': 0.029, 'compound': 0.6486}, {'neg': 0.0, 'neu': 0.934, 'pos': 0.066, 'compound': 0.4019}, {'neg': 0.099, 'neu': 0.901, 'pos': 0.0, 'compound': -0.7783}, {'neg': 0.054, 'neu': 0.913, 'pos': 0.033, 'compound': -0.7906}, {'neg': 0.026, 'neu': 0.955, 'pos': 0.02, 'compound': -0.4215}, {'neg': 0.07, 'neu': 0.925, 'pos': 0.005, 'compound': -0.998}, {'neg': 0.053, 'neu': 0.9, 'pos': 0.047, 'compound': -0.0772}, {'neg': 0.05, 'neu': 0.922, 'pos': 0.028, 'compound': -0.959}, {'neg': 0.087, 'neu': 0.886, 'pos': 0.028, 'compound': -0.9657}, {'neg': 0.048, 'neu': 0.952, 'pos': 0.0, 'compound': -0.5267}, {'neg': 0.021, 'neu': 0.962, 'pos': 0.017, 'compound': -0.0516}, {'neg': 0.057, 'neu': 0.936, 'pos': 0.007, 'compound': -0.9981}, {'neg': 0.116, 'neu': 0.884, 'pos': 0.0, 'compound': -0.8807}, {'neg': 0.058, 'neu': 0.937, 'pos': 0.005, 'compound': -0.9898}, {'neg': 0.0, 'neu': 0.954, 'pos': 0.046, 'compound': 0.4019}, {'neg': 0.0, 'neu': 1.0, 'pos': 0.0, 'compound': 0.0}, {'neg': 0.0, 'neu': 1.0, 'pos': 0.0, 'compound': 0.0}, {'neg': 0.059, 'neu': 0.912, 'pos': 0.028, 'compound': -0.9022}, {'neg': 0.0, 'neu': 1.0, 'pos': 0.0, 'compound': 0.0}, {'neg': 0.038, 'neu': 0.944, 'pos': 0.018, 'compound': -0.8834}, {'neg': 0.06, 'neu': 0.926, 'pos': 0.014, 'compound': -0.9118}, {'neg': 0.071, 'neu': 0.923, 'pos': 0.006, 'compound': -0.991}, {'neg': 0.069, 'neu': 0.913, 'pos': 0.018, 'compound': -0.9899}, {'neg': 0.0, 'neu': 1.0, 'pos': 0.0, 'compound': 0.0}, {'neg': 0.073, 'neu': 0.918, 'pos': 0.009, 'compound': -0.9909}, {'neg': 0.025, 'neu': 0.925, 'pos': 0.05, 'compound': 0.7003}, {'neg': 0.113, 'neu': 0.801, 'pos': 0.086, 'compound': -0.2732}, {'neg': 0.075, 'neu': 0.908, 'pos': 0.017, 'compound': -0.9062}, {'neg': 0.061, 'neu': 0.932, 'pos': 0.007, 'compound': -0.9957}, {'neg': 0.055, 'neu': 0.942, 'pos': 0.003, 'compound': -0.9801}, {'neg': 0.058, 'neu': 0.883, 'pos': 0.059, 'compound': 0.0258}, {'neg': 0.0, 'neu': 0.828, 'pos': 0.172, 'compound': 0.4019}, {'neg': 0.127, 'neu': 0.858, 'pos': 0.015, 'compound': -0.9726}, {'neg': 0.098, 'neu': 0.885, 'pos': 0.017, 'compound': -0.9648}, {'neg': 0.082, 'neu': 0.901, 'pos': 0.017, 'compound': -0.7717}, {'neg': 0.018, 'neu': 0.982, 'pos': 0.0, 'compound': -0.296}, {'neg': 0.077, 'neu': 0.923, 'pos': 0.0, 'compound': -0.7906}, {'neg': 0.081, 'neu': 0.865, 'pos': 0.055, 'compound': -0.5574}, {'neg': 0.053, 'neu': 0.913, 'pos': 0.033, 'compound': -0.8934}, {'neg': 0.03, 'neu': 0.97, 'pos': 0.0, 'compound': -0.6808}, {'neg': 0.023, 'neu': 0.964, 'pos': 0.013, 'compound': -0.25}, {'neg': 0.018, 'neu': 0.928, 'pos': 0.054, 'compound': 0.5423}, {'neg': 0.063, 'neu': 0.923, 'pos': 0.013, 'compound': -0.7717}, {'neg': 0.093, 'neu': 0.895, 'pos': 0.012, 'compound': -0.9901}, {'neg': 0.062, 'neu': 0.931, 'pos': 0.007, 'compound': -0.998}, {'neg': 0.087, 'neu': 0.895, 'pos': 0.018, 'compound': -0.9432}, {'neg': 0.033, 'neu': 0.932, 'pos': 0.035, 'compound': 0.25}, {'neg': 0.104, 'neu': 0.896, 'pos': 0.0, 'compound': -0.8807}, {'neg': 0.03, 'neu': 0.94, 'pos': 0.03, 'compound': 0.0}, {'neg': 0.048, 'neu': 0.952, 'pos': 0.0, 'compound': -0.296}, {'neg': 0.0, 'neu': 1.0, 'pos': 0.0, 'compound': 0.0}, {'neg': 0.384, 'neu': 0.608, 'pos': 0.007, 'compound': -0.9982}, {'neg': 0.053, 'neu': 0.942, 'pos': 0.005, 'compound': -0.9882}, {'neg': 0.052, 'neu': 0.938, 'pos': 0.01, 'compound': -0.9961}, {'neg': 0.0, 'neu': 0.969, 'pos': 0.031, 'compound': 0.5574}, {'neg': 0.09, 'neu': 0.894, 'pos': 0.016, 'compound': -0.9432}, {'neg': 0.214, 'neu': 0.68, 'pos': 0.107, 'compound': -0.296}, {'neg': 0.042, 'neu': 0.958, 'pos': 0.0, 'compound': -0.8807}, {'neg': 0.0, 'neu': 1.0, 'pos': 0.0, 'compound': 0.0}, {'neg': 0.06, 'neu': 0.94, 'pos': 0.0, 'compound': -0.8402}, {'neg': 0.023, 'neu': 0.971, 'pos': 0.006, 'compound': -0.6705}, {'neg': 0.035, 'neu': 0.965, 'pos': 0.0, 'compound': -0.5267}, {'neg': 0.155, 'neu': 0.845, 'pos': 0.0, 'compound': -0.296}, {'neg': 0.073, 'neu': 0.888, 'pos': 0.039, 'compound': -0.9201}, {'neg': 0.067, 'neu': 0.917, 'pos': 0.015, 'compound': -0.9735}, {'neg': 0.037, 'neu': 0.963, 'pos': 0.0, 'compound': -0.296}, {'neg': 0.051, 'neu': 0.935, 'pos': 0.014, 'compound': -0.9584}, {'neg': 0.0, 'neu': 1.0, 'pos': 0.0, 'compound': 0.0}, {'neg': 0.036, 'neu': 0.896, 'pos': 0.068, 'compound': 0.25}, {'neg': 0.058, 'neu': 0.918, 'pos': 0.024, 'compound': -0.9638}, {'neg': 0.02, 'neu': 0.957, 'pos': 0.023, 'compound': 0.1779}, {'neg': 0.136, 'neu': 0.864, 'pos': 0.0, 'compound': -0.5267}, {'neg': 0.096, 'neu': 0.887, 'pos': 0.017, 'compound': -0.9565}, {'neg': 0.02, 'neu': 0.963, 'pos': 0.017, 'compound': -0.0258}, {'neg': 0.015, 'neu': 0.958, 'pos': 0.027, 'compound': 0.6486}, {'neg': 0.105, 'neu': 0.865, 'pos': 0.03, 'compound': -0.6908}, {'neg': 0.081, 'neu': 0.904, 'pos': 0.015, 'compound': -0.9517}, {'neg': 0.223, 'neu': 0.777, 'pos': 0.0, 'compound': -0.9859}, {'neg': 0.091, 'neu': 0.889, 'pos': 0.02, 'compound': -0.9217}, {'neg': 0.104, 'neu': 0.868, 'pos': 0.029, 'compound': -0.9925}, {'neg': 0.076, 'neu': 0.762, 'pos': 0.162, 'compound': 0.7506}, {'neg': 0.12, 'neu': 0.865, 'pos': 0.015, 'compound': -0.9382}, {'neg': 0.071, 'neu': 0.906, 'pos': 0.023, 'compound': -0.9864}, {'neg': 0.0, 'neu': 0.972, 'pos': 0.028, 'compound': 0.128}, {'neg': 0.09, 'neu': 0.872, 'pos': 0.038, 'compound': -0.7845}, {'neg': 0.128, 'neu': 0.852, 'pos': 0.02, 'compound': -0.9643}, {'neg': 0.047, 'neu': 0.941, 'pos': 0.012, 'compound': -0.9559}, {'neg': 0.489, 'neu': 0.511, 'pos': 0.0, 'compound': -0.9517}, {'neg': 0.09, 'neu': 0.882, 'pos': 0.028, 'compound': -0.6249}, {'neg': 0.0, 'neu': 1.0, 'pos': 0.0, 'compound': 0.0}, {'neg': 0.0, 'neu': 1.0, 'pos': 0.0, 'compound': 0.0}, {'neg': 0.163, 'neu': 0.824, 'pos': 0.013, 'compound': -0.9989}, {'neg': 0.068, 'neu': 0.904, 'pos': 0.028, 'compound': -0.9806}, {'neg': 0.106, 'neu': 0.874, 'pos': 0.02, 'compound': -0.9973}, {'neg': 0.0, 'neu': 1.0, 'pos': 0.0, 'compound': 0.0}, {'neg': 0.059, 'neu': 0.941, 'pos': 0.0, 'compound': -0.8402}, {'neg': 0.084, 'neu': 0.868, 'pos': 0.049, 'compound': -0.8402}, {'neg': 0.0, 'neu': 0.982, 'pos': 0.018, 'compound': 0.3182}, {'neg': 0.037, 'neu': 0.944, 'pos': 0.019, 'compound': -0.2732}, {'neg': 0.013, 'neu': 0.963, 'pos': 0.024, 'compound': 0.7096}, {'neg': 0.066, 'neu': 0.916, 'pos': 0.018, 'compound': -0.886}, {'neg': 0.0, 'neu': 0.958, 'pos': 0.042, 'compound': 0.128}, {'neg': 0.094, 'neu': 0.89, 'pos': 0.016, 'compound': -0.9984}, {'neg': 0.0, 'neu': 0.967, 'pos': 0.033, 'compound': 0.4019}, {'neg': 0.158, 'neu': 0.647, 'pos': 0.194, 'compound': 0.128}, {'neg': 0.042, 'neu': 0.947, 'pos': 0.01, 'compound': -0.9719}, {'neg': 0.073, 'neu': 0.892, 'pos': 0.035, 'compound': -0.9468}, {'neg': 0.06, 'neu': 0.922, 'pos': 0.018, 'compound': -0.9633}, {'neg': 0.039, 'neu': 0.921, 'pos': 0.041, 'compound': 0.1531}, {'neg': 0.047, 'neu': 0.927, 'pos': 0.025, 'compound': -0.6369}, {'neg': 0.082, 'neu': 0.909, 'pos': 0.009, 'compound': -0.998}, {'neg': 0.039, 'neu': 0.914, 'pos': 0.047, 'compound': 0.128}, {'neg': 0.258, 'neu': 0.742, 'pos': 0.0, 'compound': -0.6808}, {'neg': 0.018, 'neu': 0.971, 'pos': 0.012, 'compound': -0.1779}, {'neg': 0.062, 'neu': 0.933, 'pos': 0.005, 'compound': -0.9928}, {'neg': 0.0, 'neu': 1.0, 'pos': 0.0, 'compound': 0.0}, {'neg': 0.048, 'neu': 0.949, 'pos': 0.002, 'compound': -0.9927}, {'neg': 0.1, 'neu': 0.867, 'pos': 0.033, 'compound': -0.9923}, {'neg': 0.073, 'neu': 0.908, 'pos': 0.019, 'compound': -0.997}, {'neg': 0.05, 'neu': 0.942, 'pos': 0.007, 'compound': -0.9872}, {'neg': 0.0, 'neu': 0.946, 'pos': 0.054, 'compound': 0.4019}, {'neg': 0.099, 'neu': 0.827, 'pos': 0.074, 'compound': -0.1779}, {'neg': 0.021, 'neu': 0.97, 'pos': 0.009, 'compound': -0.6808}, {'neg': 0.057, 'neu': 0.909, 'pos': 0.035, 'compound': -0.34}, {'neg': 0.166, 'neu': 0.827, 'pos': 0.007, 'compound': -0.9975}, {'neg': 0.0, 'neu': 0.926, 'pos': 0.074, 'compound': 0.7003}, {'neg': 0.0, 'neu': 1.0, 'pos': 0.0, 'compound': 0.0}, {'neg': 0.177, 'neu': 0.823, 'pos': 0.0, 'compound': -0.9274}, {'neg': 0.049, 'neu': 0.904, 'pos': 0.047, 'compound': -0.0516}, {'neg': 0.071, 'neu': 0.897, 'pos': 0.032, 'compound': -0.6124}, {'neg': 0.0, 'neu': 1.0, 'pos': 0.0, 'compound': 0.0}, {'neg': 0.0, 'neu': 1.0, 'pos': 0.0, 'compound': 0.0}, {'neg': 0.063, 'neu': 0.922, 'pos': 0.015, 'compound': -0.9926}, {'neg': 0.159, 'neu': 0.812, 'pos': 0.029, 'compound': -0.9565}, {'neg': 0.0, 'neu': 0.972, 'pos': 0.028, 'compound': 0.5574}, {'neg': 0.094, 'neu': 0.897, 'pos': 0.009, 'compound': -0.9595}, {'neg': 0.084, 'neu': 0.9, 'pos': 0.016, 'compound': -0.9747}, {'neg': 0.122, 'neu': 0.872, 'pos': 0.006, 'compound': -0.9974}, {'neg': 0.034, 'neu': 0.966, 'pos': 0.0, 'compound': -0.6808}, {'neg': 0.031, 'neu': 0.929, 'pos': 0.041, 'compound': 0.7717}, {'neg': 0.033, 'neu': 0.94, 'pos': 0.027, 'compound': -0.5267}, {'neg': 0.0, 'neu': 1.0, 'pos': 0.0, 'compound': 0.0}, {'neg': 0.126, 'neu': 0.839, 'pos': 0.035, 'compound': -0.9771}, {'neg': 0.051, 'neu': 0.939, 'pos': 0.01, 'compound': -0.946}, {'neg': 0.119, 'neu': 0.876, 'pos': 0.004, 'compound': -0.9998}, {'neg': 0.06, 'neu': 0.92, 'pos': 0.02, 'compound': -0.9975}, {'neg': 0.027, 'neu': 0.949, 'pos': 0.023, 'compound': -0.296}, {'neg': 0.095, 'neu': 0.896, 'pos': 0.009, 'compound': -0.9413}, {'neg': 0.073, 'neu': 0.927, 'pos': 0.0, 'compound': -0.296}, {'neg': 0.047, 'neu': 0.918, 'pos': 0.035, 'compound': -0.5994}, {'neg': 0.098, 'neu': 0.875, 'pos': 0.027, 'compound': -0.9571}, {'neg': 0.037, 'neu': 0.917, 'pos': 0.047, 'compound': 0.1531}, {'neg': 0.022, 'neu': 0.955, 'pos': 0.023, 'compound': 0.0516}, {'neg': 0.0, 'neu': 1.0, 'pos': 0.0, 'compound': 0.0}, {'neg': 0.084, 'neu': 0.903, 'pos': 0.013, 'compound': -0.9682}, {'neg': 0.072, 'neu': 0.916, 'pos': 0.012, 'compound': -0.9849}, {'neg': 0.0, 'neu': 1.0, 'pos': 0.0, 'compound': 0.0}, {'neg': 0.078, 'neu': 0.922, 'pos': 0.0, 'compound': -0.296}, {'neg': 0.057, 'neu': 0.891, 'pos': 0.052, 'compound': -0.25}, {'neg': 0.057, 'neu': 0.877, 'pos': 0.066, 'compound': 0.2732}, {'neg': 0.102, 'neu': 0.839, 'pos': 0.059, 'compound': -0.5574}, {'neg': 0.128, 'neu': 0.872, 'pos': 0.0, 'compound': -0.296}, {'neg': 0.035, 'neu': 0.943, 'pos': 0.022, 'compound': -0.7579}, {'neg': 0.143, 'neu': 0.85, 'pos': 0.007, 'compound': -0.9918}, {'neg': 0.075, 'neu': 0.914, 'pos': 0.012, 'compound': -0.875}, {'neg': 0.031, 'neu': 0.93, 'pos': 0.039, 'compound': 0.128}, {'neg': 0.075, 'neu': 0.904, 'pos': 0.021, 'compound': -0.992}, {'neg': 0.0, 'neu': 1.0, 'pos': 0.0, 'compound': 0.0}, {'neg': 0.062, 'neu': 0.907, 'pos': 0.032, 'compound': -0.7579}, {'neg': 0.067, 'neu': 0.907, 'pos': 0.027, 'compound': -0.9947}, {'neg': 0.39, 'neu': 0.61, 'pos': 0.0, 'compound': -0.9413}, {'neg': 0.0, 'neu': 1.0, 'pos': 0.0, 'compound': 0.0}, {'neg': 0.098, 'neu': 0.844, 'pos': 0.058, 'compound': -0.5267}, {'neg': 0.076, 'neu': 0.888, 'pos': 0.036, 'compound': -0.9217}, {'neg': 0.093, 'neu': 0.842, 'pos': 0.064, 'compound': -0.4767}, {'neg': 0.036, 'neu': 0.938, 'pos': 0.026, 'compound': -0.4019}, {'neg': 0.077, 'neu': 0.923, 'pos': 0.0, 'compound': -0.9595}, {'neg': 0.125, 'neu': 0.858, 'pos': 0.016, 'compound': -0.9806}, {'neg': 0.0, 'neu': 1.0, 'pos': 0.0, 'compound': 0.0}, {'neg': 0.0, 'neu': 1.0, 'pos': 0.0, 'compound': 0.0}, {'neg': 0.07, 'neu': 0.897, 'pos': 0.034, 'compound': -0.6486}, {'neg': 0.081, 'neu': 0.908, 'pos': 0.011, 'compound': -0.91}, {'neg': 0.101, 'neu': 0.899, 'pos': 0.0, 'compound': -0.8807}, {'neg': 0.06, 'neu': 0.918, 'pos': 0.022, 'compound': -0.979}, {'neg': 0.0, 'neu': 0.987, 'pos': 0.013, 'compound': 0.3182}, {'neg': 0.046, 'neu': 0.954, 'pos': 0.0, 'compound': -0.9413}, {'neg': 0.064, 'neu': 0.899, 'pos': 0.037, 'compound': -0.6597}, {'neg': 0.089, 'neu': 0.89, 'pos': 0.021, 'compound': -0.9918}, {'neg': 0.035, 'neu': 0.965, 'pos': 0.0, 'compound': -0.8807}, {'neg': 0.084, 'neu': 0.909, 'pos': 0.007, 'compound': -0.9595}, {'neg': 0.044, 'neu': 0.901, 'pos': 0.055, 'compound': 0.4215}, {'neg': 0.053, 'neu': 0.919, 'pos': 0.028, 'compound': -0.5574}, {'neg': 0.013, 'neu': 0.973, 'pos': 0.013, 'compound': 0.0}, {'neg': 0.0, 'neu': 0.943, 'pos': 0.057, 'compound': 0.3182}, {'neg': 0.0, 'neu': 1.0, 'pos': 0.0, 'compound': 0.0}, {'neg': 0.091, 'neu': 0.905, 'pos': 0.004, 'compound': -0.9911}, {'neg': 0.025, 'neu': 0.941, 'pos': 0.034, 'compound': 0.1027}, {'neg': 0.062, 'neu': 0.905, 'pos': 0.033, 'compound': -0.2732}, {'neg': 0.075, 'neu': 0.919, 'pos': 0.006, 'compound': -0.9709}, {'neg': 0.046, 'neu': 0.954, 'pos': 0.0, 'compound': -0.5267}, {'neg': 0.026, 'neu': 0.947, 'pos': 0.027, 'compound': 0.0258}, {'neg': 0.076, 'neu': 0.908, 'pos': 0.016, 'compound': -0.7717}, {'neg': 0.031, 'neu': 0.924, 'pos': 0.045, 'compound': 0.4404}, {'neg': 0.037, 'neu': 0.93, 'pos': 0.033, 'compound': -0.3612}, {'neg': 0.229, 'neu': 0.693, 'pos': 0.078, 'compound': -0.7717}, {'neg': 0.091, 'neu': 0.909, 'pos': 0.0, 'compound': -0.7783}, {'neg': 0.048, 'neu': 0.942, 'pos': 0.01, 'compound': -0.9559}, {'neg': 0.109, 'neu': 0.846, 'pos': 0.045, 'compound': -0.4404}, {'neg': 0.155, 'neu': 0.845, 'pos': 0.0, 'compound': -0.296}, {'neg': 0.022, 'neu': 0.943, 'pos': 0.035, 'compound': 0.6486}, {'neg': 0.049, 'neu': 0.942, 'pos': 0.009, 'compound': -0.9949}, {'neg': 0.016, 'neu': 0.968, 'pos': 0.016, 'compound': 0.0772}, {'neg': 0.067, 'neu': 0.924, 'pos': 0.008, 'compound': -0.9927}, {'neg': 0.292, 'neu': 0.637, 'pos': 0.072, 'compound': -0.743}, {'neg': 0.06, 'neu': 0.935, 'pos': 0.005, 'compound': -0.9686}, {'neg': 0.056, 'neu': 0.931, 'pos': 0.014, 'compound': -0.9869}, {'neg': 0.065, 'neu': 0.916, 'pos': 0.018, 'compound': -0.9945}, {'neg': 0.04, 'neu': 0.922, 'pos': 0.038, 'compound': -0.0516}, {'neg': 0.019, 'neu': 0.981, 'pos': 0.0, 'compound': -0.5267}, {'neg': 0.0, 'neu': 1.0, 'pos': 0.0, 'compound': 0.0}, {'neg': 0.03, 'neu': 0.938, 'pos': 0.032, 'compound': 0.0258}, {'neg': 0.053, 'neu': 0.936, 'pos': 0.011, 'compound': -0.996}, {'neg': 0.019, 'neu': 0.981, 'pos': 0.0, 'compound': -0.296}, {'neg': 0.064, 'neu': 0.918, 'pos': 0.019, 'compound': -0.9735}, {'neg': 0.0, 'neu': 1.0, 'pos': 0.0, 'compound': 0.0}, {'neg': 0.031, 'neu': 0.961, 'pos': 0.008, 'compound': -0.9493}, {'neg': 0.067, 'neu': 0.933, 'pos': 0.0, 'compound': -0.8402}, {'neg': 0.101, 'neu': 0.875, 'pos': 0.024, 'compound': -0.9531}, {'neg': 0.11, 'neu': 0.879, 'pos': 0.01, 'compound': -0.9509}, {'neg': 0.0, 'neu': 0.988, 'pos': 0.012, 'compound': 0.3182}, {'neg': 0.06, 'neu': 0.921, 'pos': 0.018, 'compound': -0.8481}, {'neg': 0.05, 'neu': 0.926, 'pos': 0.025, 'compound': -0.296}, {'neg': 0.058, 'neu': 0.899, 'pos': 0.044, 'compound': -0.1531}, {'neg': 0.063, 'neu': 0.898, 'pos': 0.038, 'compound': -0.8625}, {'neg': 0.045, 'neu': 0.955, 'pos': 0.0, 'compound': -0.296}, {'neg': 0.017, 'neu': 0.958, 'pos': 0.025, 'compound': 0.3182}, {'neg': 0.0, 'neu': 1.0, 'pos': 0.0, 'compound': 0.0}, {'neg': 0.123, 'neu': 0.866, 'pos': 0.012, 'compound': -0.9509}, {'neg': 0.089, 'neu': 0.897, 'pos': 0.014, 'compound': -0.9935}, {'neg': 0.0, 'neu': 1.0, 'pos': 0.0, 'compound': 0.0}, {'neg': 0.076, 'neu': 0.878, 'pos': 0.046, 'compound': -0.1779}, {'neg': 0.087, 'neu': 0.9, 'pos': 0.013, 'compound': -0.9984}, {'neg': 0.017, 'neu': 0.955, 'pos': 0.029, 'compound': 0.4939}, {'neg': 0.122, 'neu': 0.87, 'pos': 0.008, 'compound': -0.9946}, {'neg': 0.0, 'neu': 1.0, 'pos': 0.0, 'compound': 0.0}, {'neg': 0.011, 'neu': 0.96, 'pos': 0.028, 'compound': 0.4939}, {'neg': 0.109, 'neu': 0.891, 'pos': 0.0, 'compound': -0.6808}, {'neg': 0.046, 'neu': 0.888, 'pos': 0.066, 'compound': 0.4404}, {'neg': 0.0, 'neu': 0.983, 'pos': 0.017, 'compound': 0.296}, {'neg': 0.0, 'neu': 1.0, 'pos': 0.0, 'compound': 0.0}, {'neg': 0.071, 'neu': 0.867, 'pos': 0.062, 'compound': -0.1531}, {'neg': 0.054, 'neu': 0.933, 'pos': 0.013, 'compound': -0.9042}, {'neg': 0.0, 'neu': 1.0, 'pos': 0.0, 'compound': 0.0}, {'neg': 0.107, 'neu': 0.893, 'pos': 0.0, 'compound': -0.995}, {'neg': 0.696, 'neu': 0.304, 'pos': 0.0, 'compound': -0.9918}, {'neg': 0.386, 'neu': 0.614, 'pos': 0.0, 'compound': -0.9274}, {'neg': 0.085, 'neu': 0.893, 'pos': 0.021, 'compound': -0.6808}, {'neg': 0.049, 'neu': 0.93, 'pos': 0.021, 'compound': -0.6597}, {'neg': 0.029, 'neu': 0.885, 'pos': 0.086, 'compound': 0.5106}, {'neg': 0.034, 'neu': 0.949, 'pos': 0.018, 'compound': -0.2732}, {'neg': 0.063, 'neu': 0.928, 'pos': 0.009, 'compound': -0.9648}, {'neg': 0.0, 'neu': 1.0, 'pos': 0.0, 'compound': 0.0}, {'neg': 0.058, 'neu': 0.932, 'pos': 0.01, 'compound': -0.8402}, {'neg': 0.05, 'neu': 0.922, 'pos': 0.028, 'compound': -0.9403}, {'neg': 0.048, 'neu': 0.878, 'pos': 0.073, 'compound': 0.5267}, {'neg': 0.34, 'neu': 0.606, 'pos': 0.054, 'compound': -0.959}]\n"
          ]
        }
      ]
    },
    {
      "cell_type": "code",
      "source": [
        "# for n in range(len(debt_information)):\n",
        "#   if 'pago' in debt_information[n]:\n",
        "#     print(debt_information[n])"
      ],
      "metadata": {
        "id": "w3W9K0vWL2vH"
      },
      "execution_count": null,
      "outputs": []
    },
    {
      "cell_type": "code",
      "source": [
        "\n",
        "\n",
        "# Preprocesar los datos: dividir cada negociación en oraciones y tokenizar las oraciones en palabras individuales\n",
        "# negotiations = []\n",
        "# for negotiation in df.transcripcion_limpia:\n",
        "#     sentences = nltk.sent_tokenize(negotiation)\n",
        "#     tokens = [nltk.word_tokenize(sent) for sent in sentences]\n",
        "#     negotiations.append(tokens)\n",
        "#     print(negotiations)\n",
        "\n",
        "# # Analizar la estructura de cada negociación: buscar patrones comunes en la forma en que se presentan las intervenciones\n",
        "# turn_markers = [\"yo\", \"tú\", \"él\", \"ella\", \"nosotros\", \"nosotras\", \"ustedes\", \"ellos\", \"ellas\",\"presentación\", \"chequeo de datos\", \"deuda\", \"negociación\", \"cierre\"]\n",
        "# turns_per_negotiation = []\n",
        "# for negotiation in negotiations:\n",
        "#     turns = []\n",
        "#     current_turn = []\n",
        "#     for token_list in negotiation:\n",
        "#         for token in token_list:\n",
        "#             if token.lower() in turn_markers:\n",
        "#                 if current_turn:\n",
        "#                     turns.append(current_turn)\n",
        "#                     current_turn = []\n",
        "#             current_turn.append(token)\n",
        "#     if current_turn:\n",
        "#         turns.append(current_turn)\n",
        "#     turns_per_negotiation.append(turns)\n",
        "\n",
        "# # Extraer información relevante de cada negociación\n",
        "# debt_information = []\n",
        "# negotiation_reasons = []\n",
        "# for negotiation in turns_per_negotiation:\n",
        "#     debt_info = {}\n",
        "#     reason = \"\"\n",
        "#     for turn in negotiation:\n",
        "#         if \"deuda\" in turn:\n",
        "#             for token in turn:\n",
        "#                 if re.search(\"\\d+\", token):\n",
        "#                     debt_info[\"monto\"] = int(token)\n",
        "#         elif \"negociación\" in turn:\n",
        "#             for token in turn:\n",
        "#                 if token.lower() == \"porque\":\n",
        "#                     reason = \" \".join(turn[turn.index(token)+1:])\n",
        "#                     break\n",
        "#     debt_information.append(debt_info)\n",
        "#     negotiation_reasons.append(reason)\n",
        "\n",
        "# # Analizar el sentimiento de cada negociación utilizando VADER (Valence Aware Dictionary and sEntiment Reasoner)\n",
        "# sia = SentimentIntensityAnalyzer()\n",
        "# negotiation_sentiments = []\n",
        "# for negotiation in negotiations:\n",
        "#     negotiation_text = \" \".join([\" \".join(x) for x in negotiation])\n",
        "#     negotiation_sentiment = sia.polarity_scores(negotiation_text)\n",
        "#     negotiation_sentiments.append(negotiation_sentiment)\n",
        "\n",
        "# # Imprimir los resultados\n",
        "# print(\"Información de la deuda:\")\n",
        "# print(debt_information)\n",
        "# print(\"\\nMotivos de la negocion\")\n",
        "# print(negotiation_reasons)\n",
        "# print(\"\\nSentimientos en la negocion\")\n",
        "# print(negotiation_sentiments)"
      ],
      "metadata": {
        "id": "ZgsjZw1zuQSe"
      },
      "execution_count": null,
      "outputs": []
    }
  ]
}